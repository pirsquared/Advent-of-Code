{
 "cells": [
  {
   "cell_type": "markdown",
   "metadata": {},
   "source": [
    "AoC 2016: Day 02\n",
    "=========\n",
    "https://adventofcode.com/2016/day/2"
   ]
  },
  {
   "cell_type": "markdown",
   "metadata": {},
   "source": [
    "### Get input"
   ]
  },
  {
   "cell_type": "code",
   "execution_count": 1,
   "metadata": {
    "collapsed": true
   },
   "outputs": [],
   "source": [
    "with open('input/Day02.txt') as f:\n",
    "    inp = f.read()"
   ]
  },
  {
   "cell_type": "markdown",
   "metadata": {},
   "source": [
    "### Test Input"
   ]
  },
  {
   "cell_type": "code",
   "execution_count": 2,
   "metadata": {
    "collapsed": true
   },
   "outputs": [],
   "source": [
    "tnp = \"ULL\\nRRDDD\\nLURDL\\nUUUUD\""
   ]
  },
  {
   "cell_type": "markdown",
   "metadata": {},
   "source": [
    "I decided to use a dictionary to represent a graph"
   ]
  },
  {
   "cell_type": "markdown",
   "metadata": {},
   "source": [
    "Moves for part one represent a keypad that looks like\n",
    "\n",
    "```\n",
    "1 2 3\n",
    "4 5 6\n",
    "7 8 9\n",
    "```"
   ]
  },
  {
   "cell_type": "code",
   "execution_count": 3,
   "metadata": {
    "collapsed": true
   },
   "outputs": [],
   "source": [
    "moves_part1 = {\n",
    "    1: dict(U=1, L=1, D=4, R=2),\n",
    "    2: dict(U=2, L=1, D=5, R=3),\n",
    "    3: dict(U=3, L=2, D=6, R=3),\n",
    "    4: dict(U=1, L=4, D=7, R=5),\n",
    "    5: dict(U=2, L=4, D=8, R=6),\n",
    "    6: dict(U=3, L=5, D=9, R=6),\n",
    "    7: dict(U=4, L=7, D=7, R=8),\n",
    "    8: dict(U=5, L=7, D=8, R=9),\n",
    "    9: dict(U=6, L=8, D=9, R=9)\n",
    "}"
   ]
  },
  {
   "cell_type": "markdown",
   "metadata": {
    "collapsed": true
   },
   "source": [
    "Moves for part two represent a keypad that looks like\n",
    "```\n",
    "    1\n",
    "  2 3 4\n",
    "5 6 7 8 9\n",
    "  A B C\n",
    "    D\n",
    "```"
   ]
  },
  {
   "cell_type": "code",
   "execution_count": 4,
   "metadata": {
    "collapsed": true
   },
   "outputs": [],
   "source": [
    "A, B, C, D = list('ABCD')\n",
    "moves_part2 = {\n",
    "    1: dict(U=1, L=1, D=3, R=1),\n",
    "    2: dict(U=2, L=2, D=6, R=3),\n",
    "    3: dict(U=1, L=2, D=7, R=4),\n",
    "    4: dict(U=4, L=3, D=8, R=4),\n",
    "    5: dict(U=5, L=5, D=5, R=6),\n",
    "    6: dict(U=2, L=5, D=A, R=7),\n",
    "    7: dict(U=3, L=6, D=B, R=8),\n",
    "    8: dict(U=4, L=7, D=C, R=9),\n",
    "    9: dict(U=9, L=8, D=9, R=9),\n",
    "    A: dict(U=6, L=A, D=A, R=B),\n",
    "    B: dict(U=7, L=A, D=D, R=C),\n",
    "    C: dict(U=8, L=B, D=C, R=C),\n",
    "    D: dict(U=B, L=D, D=D, R=D),\n",
    "}"
   ]
  },
  {
   "cell_type": "code",
   "execution_count": 5,
   "metadata": {
    "collapsed": true
   },
   "outputs": [],
   "source": [
    "def get_comb(inp, moves):\n",
    "    keys = []\n",
    "    button = 5\n",
    "    for line in inp.splitlines():\n",
    "        for direction in line:\n",
    "            button = moves[button][direction]\n",
    "        keys.append(str(button))\n",
    "    return ''.join(keys)"
   ]
  },
  {
   "cell_type": "code",
   "execution_count": 6,
   "metadata": {},
   "outputs": [],
   "source": [
    "assert get_comb(tnp, moves_part1) == '1985'\n",
    "assert get_comb(tnp, moves_part2) == '5DB3'"
   ]
  },
  {
   "cell_type": "code",
   "execution_count": 7,
   "metadata": {},
   "outputs": [
    {
     "data": {
      "text/plain": [
       "('19636', '3CC43')"
      ]
     },
     "execution_count": 7,
     "metadata": {},
     "output_type": "execute_result"
    }
   ],
   "source": [
    "(get_comb(inp, moves_part1), get_comb(inp, moves_part2))"
   ]
  },
  {
   "cell_type": "code",
   "execution_count": null,
   "metadata": {
    "collapsed": true
   },
   "outputs": [],
   "source": []
  }
 ],
 "metadata": {
  "kernelspec": {
   "display_name": "Python [conda env:3.6.ml]",
   "language": "python",
   "name": "conda-env-3.6.ml-py"
  },
  "language_info": {
   "codemirror_mode": {
    "name": "ipython",
    "version": 3
   },
   "file_extension": ".py",
   "mimetype": "text/x-python",
   "name": "python",
   "nbconvert_exporter": "python",
   "pygments_lexer": "ipython3",
   "version": "3.6.2"
  }
 },
 "nbformat": 4,
 "nbformat_minor": 2
}
