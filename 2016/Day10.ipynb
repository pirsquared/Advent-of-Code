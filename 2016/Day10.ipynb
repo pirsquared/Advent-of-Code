{
 "cells": [
  {
   "cell_type": "code",
   "execution_count": 1,
   "metadata": {
    "collapsed": true
   },
   "outputs": [],
   "source": [
    "import os\n",
    "from aocd import get_data, submit1, submit2\n",
    "\n",
    "\n",
    "day, year = 10, 2016\n",
    "fn = f'input/Day{day:02}.txt'\n",
    "\n",
    "if not os.path.exists(fn):\n",
    "    with open(fn, 'w') as f:\n",
    "        f.write(get_data(day=day, year=year))\n",
    "    \n",
    "with open(fn) as f:\n",
    "    inp = f.read()"
   ]
  },
  {
   "cell_type": "markdown",
   "metadata": {},
   "source": [
    "AoC 2016 Day 10\n",
    "========\n",
    "https://adventofcode.com/2016/day/10"
   ]
  },
  {
   "cell_type": "code",
   "execution_count": 2,
   "metadata": {},
   "outputs": [
    {
     "data": {
      "text/plain": [
       "('93', 47101)"
      ]
     },
     "execution_count": 2,
     "metadata": {},
     "output_type": "execute_result"
    }
   ],
   "source": [
    "from collections import defaultdict\n",
    "from functools import reduce\n",
    "\n",
    "def parse(inp, log, out):\n",
    "    bots = {}\n",
    "    values = []\n",
    "    hilo = dict(low='lo', high='hi')\n",
    "    for line in inp.splitlines():\n",
    "        if line.startswith('value'):\n",
    "            i, o = line.split(' goes to ')\n",
    "            values.append((int(i.split()[1]), o))\n",
    "        else:\n",
    "            i, o = line.split(' gives ')\n",
    "            bots[i] = dict(bot=bot(i, bots, log, out))\n",
    "            bots[i]['bot'].send(None)\n",
    "            for side in o.split(' and '):\n",
    "                left, right = side.split(' to ')\n",
    "                bots[i][hilo[left]] = right\n",
    "    return bots, values\n",
    "\n",
    "def send(me, value, bots, out):\n",
    "    if me in bots:\n",
    "        bots[me]['bot'].send(value)\n",
    "        \n",
    "    else:\n",
    "        out[me] = value\n",
    "\n",
    "def bot(me, bots, log, out):\n",
    "    values = []\n",
    "    while True:\n",
    "        if len(values) < 2:\n",
    "            value = yield\n",
    "            values.append(value)\n",
    "        else:\n",
    "            values.sort()\n",
    "            hi = bots[me]['hi']\n",
    "            lo = bots[me]['lo']\n",
    "            send(hi, values[1], bots, out)\n",
    "            send(lo, values[0], bots, out)\n",
    "            log[frozenset(values)].append(me)\n",
    "            values = []\n",
    "\n",
    "def Day10(inp, these, those):\n",
    "    log = defaultdict(list)\n",
    "    out = {}\n",
    "    bots, values = parse(inp, log, out)\n",
    "    for value, bot in values:\n",
    "        bots[bot]['bot'].send(value)\n",
    "    return (\n",
    "        log[frozenset(these)][0].split()[1],\n",
    "        reduce(\n",
    "            lambda x, y: x * y,\n",
    "            map(out.get, map('output {}'.format, those))\n",
    "        )\n",
    "    )\n",
    "\n",
    "Day10(inp, [61, 17], [0, 1, 2])"
   ]
  },
  {
   "cell_type": "code",
   "execution_count": null,
   "metadata": {
    "collapsed": true
   },
   "outputs": [],
   "source": []
  }
 ],
 "metadata": {
  "kernelspec": {
   "display_name": "Python [conda env:3.6.ml]",
   "language": "python",
   "name": "conda-env-3.6.ml-py"
  },
  "language_info": {
   "codemirror_mode": {
    "name": "ipython",
    "version": 3
   },
   "file_extension": ".py",
   "mimetype": "text/x-python",
   "name": "python",
   "nbconvert_exporter": "python",
   "pygments_lexer": "ipython3",
   "version": "3.6.2"
  }
 },
 "nbformat": 4,
 "nbformat_minor": 2
}
