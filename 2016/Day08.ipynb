{
 "cells": [
  {
   "cell_type": "code",
   "execution_count": 2,
   "metadata": {
    "collapsed": true
   },
   "outputs": [],
   "source": [
    "import os\n",
    "from aocd import get_data, submit1, submit2\n",
    "\n",
    "\n",
    "day, year = 8, 2016\n",
    "fn = f'input/Day{day:02}.txt'\n",
    "\n",
    "if not os.path.exists(fn):\n",
    "    with open(fn, 'w') as f:\n",
    "        f.write(get_data(day=day, year=year))\n",
    "    \n",
    "with open(fn) as f:\n",
    "    inp = f.read()"
   ]
  },
  {
   "cell_type": "markdown",
   "metadata": {},
   "source": [
    "AoC 2016 Day 08\n",
    "========\n",
    "https://adventofcode.com/2016/day/8"
   ]
  },
  {
   "cell_type": "markdown",
   "metadata": {},
   "source": [
    "## Part 1"
   ]
  },
  {
   "cell_type": "code",
   "execution_count": 122,
   "metadata": {
    "collapsed": true
   },
   "outputs": [],
   "source": [
    "from IPython.display import clear_output"
   ]
  },
  {
   "cell_type": "code",
   "execution_count": 17,
   "metadata": {
    "collapsed": true
   },
   "outputs": [],
   "source": [
    "def parse(inp):\n",
    "    inp = (\n",
    "        inp\n",
    "        .replace('rect', 'rec')\n",
    "        .replace('rotate ', '')\n",
    "        .replace('row y=', 'row ')\n",
    "        .replace('column x=', 'col ')\n",
    "        .replace(' by ', ' ')\n",
    "        .replace('x', ' ')\n",
    "    )\n",
    "    return [(t[0], int(t[1]), int(t[2])) for t in map(str.split, inp.splitlines())]\n",
    "\n",
    "instructions = parse(inp)"
   ]
  },
  {
   "cell_type": "code",
   "execution_count": 100,
   "metadata": {
    "collapsed": true
   },
   "outputs": [],
   "source": [
    "class Screen(object):\n",
    "    def __init__(self, height, width):\n",
    "        self.height = height\n",
    "        self.width = width\n",
    "        self.reset()\n",
    "        \n",
    "    def reset(self):\n",
    "        self.pixels = [['.' for _ in range(self.width)] for _ in range(self.height)]\n",
    "        \n",
    "    def __repr__(self):\n",
    "        return '\\n'.join(map(''.join, self.pixels))\n",
    "    \n",
    "    def rec(self, x, y):\n",
    "        for j in range(x % self.width):\n",
    "            for i in range(y % self.height):\n",
    "                self.pixels[i][j] = '#'\n",
    "        return self\n",
    "    \n",
    "    def row(self, r, x):\n",
    "        x = x % self.width\n",
    "        self.pixels[r] = self.pixels[r][-x:] + self.pixels[r][:-x]\n",
    "        return self\n",
    "    \n",
    "    def col(self, c, y):\n",
    "        h = self.height\n",
    "        temp = [row[c] for row in self.pixels]\n",
    "        for i, p in enumerate(temp[-y:] + temp[:-y]):\n",
    "            self.pixels[i][c] = p\n",
    "            \n",
    "        return self"
   ]
  },
  {
   "cell_type": "code",
   "execution_count": 119,
   "metadata": {
    "collapsed": true
   },
   "outputs": [],
   "source": [
    "def run(t):\n",
    "    a, *args = t\n",
    "    "
   ]
  },
  {
   "cell_type": "code",
   "execution_count": 136,
   "metadata": {},
   "outputs": [
    {
     "data": {
      "text/plain": [
       "####...##.#..#.###..#..#..##..###..#....#...#..##.\n",
       "...#....#.#..#.#..#.#.#..#..#.#..#.#....#...#...#.\n",
       "..#.....#.####.#..#.##...#....#..#.#.....#.#....#.\n",
       ".#......#.#..#.###..#.#..#....###..#......#.....#.\n",
       "#....#..#.#..#.#.#..#.#..#..#.#....#......#..#..#.\n",
       "####..##..#..#.#..#.#..#..##..#....####...#...##.."
      ]
     },
     "execution_count": 136,
     "metadata": {},
     "output_type": "execute_result"
    }
   ],
   "source": [
    "s = Screen(6, 50)\n",
    "for method, *args in instructions:\n",
    "    s.__getattribute__(method)(*args)\n",
    "s"
   ]
  },
  {
   "cell_type": "code",
   "execution_count": 130,
   "metadata": {},
   "outputs": [
    {
     "data": {
      "text/plain": [
       "110"
      ]
     },
     "execution_count": 130,
     "metadata": {},
     "output_type": "execute_result"
    }
   ],
   "source": [
    "p1 = sum([x == '#' for row in s.pixels for x in row])\n",
    "p1"
   ]
  },
  {
   "cell_type": "code",
   "execution_count": 131,
   "metadata": {},
   "outputs": [
    {
     "name": "stdout",
     "output_type": "stream",
     "text": [
      "\u001b[32mThat's the right answer!  You are one gold star closer to fixing the sleigh. [Return to Day 8]\u001b[0m\n"
     ]
    }
   ],
   "source": [
    "submit1(p1, 2016, 8);"
   ]
  },
  {
   "cell_type": "markdown",
   "metadata": {},
   "source": [
    "## Part 2"
   ]
  },
  {
   "cell_type": "code",
   "execution_count": 132,
   "metadata": {},
   "outputs": [
    {
     "name": "stdout",
     "output_type": "stream",
     "text": [
      "\u001b[32mThat's the right answer!  You are one gold star closer to fixing the sleigh.You have completed Day 8! You can [Shareon\n",
      "  Twitter\n",
      "Google+\n",
      "Reddit] this victory or [Return to Your Advent Calendar].\u001b[0m\n"
     ]
    }
   ],
   "source": [
    "submit2('ZJHRKCPLYJ', 2016, 8);"
   ]
  },
  {
   "cell_type": "code",
   "execution_count": null,
   "metadata": {
    "collapsed": true
   },
   "outputs": [],
   "source": []
  }
 ],
 "metadata": {
  "kernelspec": {
   "display_name": "Python [conda env:3.6.ml]",
   "language": "python",
   "name": "conda-env-3.6.ml-py"
  },
  "language_info": {
   "codemirror_mode": {
    "name": "ipython",
    "version": 3
   },
   "file_extension": ".py",
   "mimetype": "text/x-python",
   "name": "python",
   "nbconvert_exporter": "python",
   "pygments_lexer": "ipython3",
   "version": "3.6.2"
  }
 },
 "nbformat": 4,
 "nbformat_minor": 2
}
