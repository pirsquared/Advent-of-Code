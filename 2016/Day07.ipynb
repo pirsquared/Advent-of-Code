{
 "cells": [
  {
   "cell_type": "code",
   "execution_count": 1,
   "metadata": {
    "collapsed": true
   },
   "outputs": [],
   "source": [
    "import os\n",
    "from aocd import get_data, submit1, submit2\n",
    "\n",
    "\n",
    "day, year = 7, 2016\n",
    "fn = f'input/Day{day:02}.txt'\n",
    "\n",
    "if not os.path.exists(fn):\n",
    "    with open(fn, 'w') as f:\n",
    "        f.write(get_data(day=day, year=year))\n",
    "    \n",
    "with open(fn) as f:\n",
    "    inp = f.read()"
   ]
  },
  {
   "cell_type": "markdown",
   "metadata": {},
   "source": [
    "AoC 2016 Day 07\n",
    "========\n",
    "https://adventofcode.com/2016/day/7"
   ]
  },
  {
   "cell_type": "markdown",
   "metadata": {},
   "source": [
    "## Part 1"
   ]
  },
  {
   "cell_type": "code",
   "execution_count": 10,
   "metadata": {},
   "outputs": [
    {
     "data": {
      "text/plain": [
       "115"
      ]
     },
     "execution_count": 10,
     "metadata": {},
     "output_type": "execute_result"
    }
   ],
   "source": [
    "p1 = sum(map(abba, inp.splitlines()))\n",
    "p1"
   ]
  },
  {
   "cell_type": "code",
   "execution_count": 11,
   "metadata": {},
   "outputs": [
    {
     "name": "stdout",
     "output_type": "stream",
     "text": [
      "\u001b[32mThat's the right answer!  You are one gold star closer to fixing the sleigh. [Return to Day 7]\u001b[0m\n"
     ]
    },
    {
     "data": {
      "text/plain": [
       "<Response [200]>"
      ]
     },
     "execution_count": 11,
     "metadata": {},
     "output_type": "execute_result"
    }
   ],
   "source": [
    "submit1(p1, 2016, 7);"
   ]
  },
  {
   "cell_type": "markdown",
   "metadata": {},
   "source": [
    "## Part 2"
   ]
  },
  {
   "cell_type": "code",
   "execution_count": 14,
   "metadata": {
    "collapsed": true
   },
   "outputs": [],
   "source": [
    "from collections import deque\n",
    "\n",
    "def ssl(line):\n",
    "    bracket = False\n",
    "    aba = set()\n",
    "    bab = set()\n",
    "    c0 = c1 = c2 = None\n",
    "    for c in line:\n",
    "        if c == '[':\n",
    "            bracket = True\n",
    "            c0 = c1 = c2 = None\n",
    "        elif c == ']':\n",
    "            bracket = False\n",
    "            c0 = c1 = c2 = None\n",
    "        else:\n",
    "            c0, c1, c2 = c1, c2, c\n",
    "            cond = (c0 == c2) & (c0 != c1)\n",
    "            if cond:\n",
    "                if bracket:\n",
    "                    bab.add((c1, c0))\n",
    "                else:\n",
    "                    aba.add((c0, c1))\n",
    "    return bool(aba & bab)\n",
    "        "
   ]
  },
  {
   "cell_type": "code",
   "execution_count": 15,
   "metadata": {},
   "outputs": [
    {
     "data": {
      "text/plain": [
       "231"
      ]
     },
     "execution_count": 15,
     "metadata": {},
     "output_type": "execute_result"
    }
   ],
   "source": [
    "p2 = sum(map(ssl, inp.splitlines()))\n",
    "p2"
   ]
  },
  {
   "cell_type": "code",
   "execution_count": 17,
   "metadata": {},
   "outputs": [
    {
     "name": "stdout",
     "output_type": "stream",
     "text": [
      "\u001b[32mThat's the right answer!  You are one gold star closer to fixing the sleigh.You have completed Day 7! You can [Shareon\n",
      "  Twitter\n",
      "Google+\n",
      "Reddit] this victory or [Return to Your Advent Calendar].\u001b[0m\n"
     ]
    }
   ],
   "source": [
    "submit2(p2, 2016, 7);"
   ]
  },
  {
   "cell_type": "code",
   "execution_count": null,
   "metadata": {
    "collapsed": true
   },
   "outputs": [],
   "source": []
  }
 ],
 "metadata": {
  "kernelspec": {
   "display_name": "Python [conda env:3.6.ml]",
   "language": "python",
   "name": "conda-env-3.6.ml-py"
  },
  "language_info": {
   "codemirror_mode": {
    "name": "ipython",
    "version": 3
   },
   "file_extension": ".py",
   "mimetype": "text/x-python",
   "name": "python",
   "nbconvert_exporter": "python",
   "pygments_lexer": "ipython3",
   "version": "3.6.2"
  }
 },
 "nbformat": 4,
 "nbformat_minor": 2
}
