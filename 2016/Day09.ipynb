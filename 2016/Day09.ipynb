{
 "cells": [
  {
   "cell_type": "code",
   "execution_count": 1,
   "metadata": {
    "collapsed": true
   },
   "outputs": [],
   "source": [
    "import os\n",
    "from aocd import get_data, submit1, submit2\n",
    "\n",
    "\n",
    "day, year = 9, 2016\n",
    "fn = f'input/Day{day:02}.txt'\n",
    "\n",
    "if not os.path.exists(fn):\n",
    "    with open(fn, 'w') as f:\n",
    "        f.write(get_data(day=day, year=year))\n",
    "    \n",
    "with open(fn) as f:\n",
    "    inp = f.read()"
   ]
  },
  {
   "cell_type": "markdown",
   "metadata": {},
   "source": [
    "AoC 2016 Day 09\n",
    "========\n",
    "https://adventofcode.com/2016/day/9"
   ]
  },
  {
   "cell_type": "markdown",
   "metadata": {},
   "source": [
    "## Part 1"
   ]
  },
  {
   "cell_type": "code",
   "execution_count": 17,
   "metadata": {
    "collapsed": true
   },
   "outputs": [],
   "source": [
    "def decompress_1(inp):\n",
    "    i = 0\n",
    "    j = inp.find('(', i)\n",
    "    \n",
    "    if j < 0:\n",
    "        return inp\n",
    "    else:\n",
    "        result = []\n",
    "        while j >= 0:\n",
    "            result.append(inp[i:j])\n",
    "            k = inp.find(')', j)\n",
    "            nx, rp = map(int, inp[j + 1:k].split('x'))\n",
    "            result.append(inp[k + 1: k + 1 + nx] * rp)\n",
    "            i = k + 1 + nx\n",
    "            j = inp.find('(', i)\n",
    "        result.append(inp[i:])\n",
    "        return ''.join(result)\n"
   ]
  },
  {
   "cell_type": "code",
   "execution_count": 18,
   "metadata": {},
   "outputs": [],
   "source": [
    "tests = {\n",
    "    'ADVENT': 'ADVENT',\n",
    "    'A(1x5)BC': 'ABBBBBC',\n",
    "    '(3x3)XYZ': 'XYZXYZXYZ',\n",
    "    'A(2x2)BCD(2x2)EFG': 'ABCBCDEFEFG',\n",
    "    '(6x1)(1x3)A': '(1x3)A',\n",
    "    'X(8x2)(3x3)ABCY': 'X(3x3)ABC(3x3)ABCY'\n",
    "}"
   ]
  },
  {
   "cell_type": "code",
   "execution_count": 20,
   "metadata": {},
   "outputs": [],
   "source": [
    "for i, o in tests.items():\n",
    "    assert decompress_1(i) == o"
   ]
  },
  {
   "cell_type": "code",
   "execution_count": 21,
   "metadata": {},
   "outputs": [
    {
     "data": {
      "text/plain": [
       "150914"
      ]
     },
     "execution_count": 21,
     "metadata": {},
     "output_type": "execute_result"
    }
   ],
   "source": [
    "d = decompress_1(inp)\n",
    "p1 = len(d)\n",
    "p1"
   ]
  },
  {
   "cell_type": "code",
   "execution_count": 27,
   "metadata": {},
   "outputs": [
    {
     "name": "stdout",
     "output_type": "stream",
     "text": [
      "\u001b[32mThat's the right answer!  You are one gold star closer to fixing the sleigh. [Return to Day 9]\u001b[0m\n"
     ]
    }
   ],
   "source": [
    "submit1(p1, 2016, 9);"
   ]
  },
  {
   "cell_type": "markdown",
   "metadata": {},
   "source": [
    "## Part 2"
   ]
  },
  {
   "cell_type": "markdown",
   "metadata": {},
   "source": [
    "First I recursively decompress.  Second, I swap string concatenation with sums of lengths."
   ]
  },
  {
   "cell_type": "code",
   "execution_count": 22,
   "metadata": {
    "collapsed": true
   },
   "outputs": [],
   "source": [
    "def decompress_2(inp):\n",
    "    i = inp.find('(')\n",
    "    \n",
    "    if i < 0:\n",
    "        return inp\n",
    "    else:\n",
    "        j = inp.find(')')\n",
    "        n, m = map(int, inp[i + 1:j].split('x'))\n",
    "        k = j + 1 + n\n",
    "        return inp[:i] + decompress(inp[j + 1:k] * m) + decompress(inp[k:])\n"
   ]
  },
  {
   "cell_type": "code",
   "execution_count": 23,
   "metadata": {
    "collapsed": true
   },
   "outputs": [],
   "source": [
    "def decompress_count(inp):\n",
    "    i = inp.find('(')\n",
    "    \n",
    "    if i < 0:\n",
    "        return len(inp)\n",
    "    else:\n",
    "        j = inp.find(')')\n",
    "        n, m = map(int, inp[i + 1:j].split('x'))\n",
    "        k = j + 1 + n\n",
    "        return i + decompress_count(inp[j + 1:k] * m) + decompress_count(inp[k:])\n"
   ]
  },
  {
   "cell_type": "code",
   "execution_count": 25,
   "metadata": {
    "collapsed": true
   },
   "outputs": [],
   "source": [
    "assert decompress_2('(3x3)XYZ') == 'XYZXYZXYZ'\n",
    "assert decompress_2('X(8x2)(3x3)ABCY') == 'XABCABCABCABCABCABCY'\n",
    "assert decompress_count('(27x12)(20x12)(13x14)(7x10)(1x12)A') == 241920\n",
    "assert decompress_count('(25x3)(3x3)ABC(2x3)XY(5x2)PQRSTX(18x9)(3x2)TWO(5x7)SEVEN') == 445"
   ]
  },
  {
   "cell_type": "code",
   "execution_count": 26,
   "metadata": {},
   "outputs": [
    {
     "data": {
      "text/plain": [
       "11052855125"
      ]
     },
     "execution_count": 26,
     "metadata": {},
     "output_type": "execute_result"
    }
   ],
   "source": [
    "p2 = decompress_count(inp)\n",
    "p2"
   ]
  },
  {
   "cell_type": "code",
   "execution_count": 28,
   "metadata": {},
   "outputs": [
    {
     "name": "stdout",
     "output_type": "stream",
     "text": [
      "\u001b[32mThat's the right answer!  You are one gold star closer to fixing the sleigh.You have completed Day 9! You can [Shareon\n",
      "  Twitter\n",
      "Google+\n",
      "Reddit] this victory or [Return to Your Advent Calendar].\u001b[0m\n"
     ]
    }
   ],
   "source": [
    "submit2(p2, 2016, 9);"
   ]
  },
  {
   "cell_type": "code",
   "execution_count": null,
   "metadata": {
    "collapsed": true
   },
   "outputs": [],
   "source": []
  }
 ],
 "metadata": {
  "kernelspec": {
   "display_name": "Python [conda env:3.6.ml]",
   "language": "python",
   "name": "conda-env-3.6.ml-py"
  },
  "language_info": {
   "codemirror_mode": {
    "name": "ipython",
    "version": 3
   },
   "file_extension": ".py",
   "mimetype": "text/x-python",
   "name": "python",
   "nbconvert_exporter": "python",
   "pygments_lexer": "ipython3",
   "version": "3.6.2"
  }
 },
 "nbformat": 4,
 "nbformat_minor": 2
}
