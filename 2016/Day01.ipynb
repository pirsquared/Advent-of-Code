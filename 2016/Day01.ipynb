{
 "cells": [
  {
   "cell_type": "markdown",
   "metadata": {},
   "source": [
    "I use complex numbers to control turning left and right.  If we assume the real component is one axis and the imaginary  component is another axis, then we can specify a direction of `1` which specifies a vector pointing one unit in the direction of the real axis.  We then let multiplication by the unit vector in the imaginary dimension represent turning right and multiplication of the negative of that unit vector represent turning left.\n",
    "\n",
    "Right Turns\n",
    "$\\begin{align*}\n",
    "1 \\cdot i &= i \\\\\n",
    "i \\cdot i &= -1 \\\\\n",
    "-1 \\cdot i &= -i \\\\\n",
    "-i \\cdot i &= 1 \\\\\n",
    "\\end{align*}$\n",
    "\n",
    "Left Turns\n",
    "$\\begin{align*}\n",
    "1 \\cdot -i &= -i \\\\\n",
    "-i \\cdot -i &= -1 \\\\\n",
    "-1 \\cdot -i &= i \\\\\n",
    "i \\cdot -i &= 1\n",
    "\\end{align*}$"
   ]
  },
  {
   "cell_type": "code",
   "execution_count": 1,
   "metadata": {},
   "outputs": [
    {
     "data": {
      "text/plain": [
       "(161.0, 110.0)"
      ]
     },
     "execution_count": 1,
     "metadata": {},
     "output_type": "execute_result"
    }
   ],
   "source": [
    "inp = open('./input/Day01.txt').read()\n",
    "\n",
    "def manhatten(c):\n",
    "    return abs(c.real) + abs(c.imag) if c else None\n",
    "\n",
    "def Day01(inp):\n",
    "    position  = 0 + 0j\n",
    "    direction = 1 + 0j\n",
    "\n",
    "    seen = set()\n",
    "\n",
    "    d2c = dict(R=1j, L=-1j)\n",
    "\n",
    "    first_twice = None\n",
    "\n",
    "    for d in inp.split(', '):\n",
    "        direction *= d2c[d[0]]\n",
    "        for j in range(int(d[1:])):\n",
    "            position += direction\n",
    "            if position in seen and not first_twice:\n",
    "                first_twice = position\n",
    "            \n",
    "            seen.add(position)\n",
    "\n",
    "    return manhatten(position), manhatten(first_twice)\n",
    "\n",
    "assert Day01('R2, L3')[0] == 5\n",
    "assert Day01('R2, R2, R2')[0] == 2\n",
    "assert Day01('R5, L5, R5, R3')[0] == 12\n",
    "assert Day01('R8, R4, R4, R8')[1] == 4\n",
    "\n",
    "Day01(inp)"
   ]
  }
 ],
 "metadata": {
  "kernelspec": {
   "display_name": "Python [conda env:3.6.ml]",
   "language": "python",
   "name": "conda-env-3.6.ml-py"
  },
  "language_info": {
   "codemirror_mode": {
    "name": "ipython",
    "version": 3
   },
   "file_extension": ".py",
   "mimetype": "text/x-python",
   "name": "python",
   "nbconvert_exporter": "python",
   "pygments_lexer": "ipython3",
   "version": "3.6.2"
  }
 },
 "nbformat": 4,
 "nbformat_minor": 1
}
