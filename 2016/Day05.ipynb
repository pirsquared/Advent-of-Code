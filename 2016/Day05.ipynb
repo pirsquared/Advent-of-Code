{
 "cells": [
  {
   "cell_type": "code",
   "execution_count": 1,
   "metadata": {
    "collapsed": true
   },
   "outputs": [],
   "source": [
    "import os\n",
    "from aocd import get_data, submit1, submit2\n",
    "\n",
    "\n",
    "day, year = 5, 2016\n",
    "fn = f'input/Day{day:02}.txt'\n",
    "\n",
    "if not os.path.exists(fn):\n",
    "    with open(fn, 'w') as f:\n",
    "        f.write(get_data(day=day, year=year))\n",
    "    \n",
    "with open(fn) as f:\n",
    "    inp = f.read()"
   ]
  },
  {
   "cell_type": "markdown",
   "metadata": {},
   "source": [
    "AoC 2016 Day 05\n",
    "========\n",
    "https://adventofcode.com/2016/day/5"
   ]
  },
  {
   "cell_type": "code",
   "execution_count": 24,
   "metadata": {
    "collapsed": true
   },
   "outputs": [],
   "source": [
    "from hashlib import md5\n",
    "from itertools import islice, count"
   ]
  },
  {
   "cell_type": "markdown",
   "metadata": {},
   "source": [
    "## Part 1"
   ]
  },
  {
   "cell_type": "code",
   "execution_count": 97,
   "metadata": {
    "collapsed": true
   },
   "outputs": [],
   "source": [
    "def hash_gen(inp):\n",
    "    b = inp.encode()\n",
    "    for i in islice(count(), 0, None):\n",
    "        h = hashlib.md5(b + f'{i}'.encode()).hexdigest()\n",
    "        if h.startswith('00000'):\n",
    "            yield h[5]"
   ]
  },
  {
   "cell_type": "code",
   "execution_count": 99,
   "metadata": {},
   "outputs": [],
   "source": [
    "assert ''.join(islice(hash_gen('abc'), 0, 8)) == '18f47a30'"
   ]
  },
  {
   "cell_type": "code",
   "execution_count": 125,
   "metadata": {},
   "outputs": [
    {
     "name": "stdout",
     "output_type": "stream",
     "text": [
      "d4cd2ee1\n"
     ]
    }
   ],
   "source": [
    "part1_result = ''.join(islice(hash_gen(inp), 0, 8))\n",
    "print(part1_result)"
   ]
  },
  {
   "cell_type": "code",
   "execution_count": 101,
   "metadata": {},
   "outputs": [
    {
     "name": "stdout",
     "output_type": "stream",
     "text": [
      "\u001b[32mThat's the right answer!  You are one gold star closer to fixing the sleigh. [Return to Day 5]\u001b[0m\n"
     ]
    },
    {
     "data": {
      "text/plain": [
       "<Response [200]>"
      ]
     },
     "execution_count": 101,
     "metadata": {},
     "output_type": "execute_result"
    }
   ],
   "source": [
    "submit1(part1_result, 2016, 5)"
   ]
  },
  {
   "cell_type": "markdown",
   "metadata": {},
   "source": [
    "## Part 2"
   ]
  },
  {
   "cell_type": "code",
   "execution_count": 126,
   "metadata": {},
   "outputs": [],
   "source": [
    "b = 'abc'.encode()\n",
    "s = [None for _ in range(8)]\n",
    "for i in islice(count(), 0, None):\n",
    "    h = hashlib.md5(b + f'{i}'.encode()).hexdigest()\n",
    "    if h.startswith('00000'):\n",
    "        _5 = h[5]\n",
    "        if _5.isdigit():\n",
    "            _5 = int(_5)\n",
    "            if _5 < 8 and s[_5] is None:\n",
    "                s[_5] = h[6]\n",
    "                if all(map(lambda x: x is not None, s)):\n",
    "                    break\n",
    "\n",
    "assert ''.join(s) == '05ace8e3'"
   ]
  },
  {
   "cell_type": "code",
   "execution_count": 128,
   "metadata": {},
   "outputs": [
    {
     "name": "stdout",
     "output_type": "stream",
     "text": [
      "f2c730e5\n"
     ]
    }
   ],
   "source": [
    "b = inp.encode()\n",
    "s = [None for _ in range(8)]\n",
    "for i in islice(count(), 0, None):\n",
    "    h = hashlib.md5(b + f'{i}'.encode()).hexdigest()\n",
    "    if h.startswith('00000'):\n",
    "        _5 = h[5]\n",
    "        if _5.isdigit():\n",
    "            _5 = int(_5)\n",
    "            if _5 < 8 and s[_5] is None:\n",
    "                s[_5] = h[6]\n",
    "                if all(map(lambda x: x is not None, s)):\n",
    "                    break\n",
    "\n",
    "part2_result = ''.join(s)\n",
    "print(part2_result)"
   ]
  },
  {
   "cell_type": "code",
   "execution_count": 124,
   "metadata": {},
   "outputs": [
    {
     "name": "stdout",
     "output_type": "stream",
     "text": [
      "\u001b[32mThat's the right answer!  You are one gold star closer to fixing the sleigh.You have completed Day 5! You can [Shareon\n",
      "  Twitter\n",
      "Google+\n",
      "Reddit] this victory or [Return to Your Advent Calendar].\u001b[0m\n"
     ]
    },
    {
     "data": {
      "text/plain": [
       "<Response [200]>"
      ]
     },
     "execution_count": 124,
     "metadata": {},
     "output_type": "execute_result"
    }
   ],
   "source": [
    "submit2('f2c730e5', 2016, 5)"
   ]
  },
  {
   "cell_type": "code",
   "execution_count": null,
   "metadata": {
    "collapsed": true
   },
   "outputs": [],
   "source": []
  }
 ],
 "metadata": {
  "kernelspec": {
   "display_name": "Python [conda env:3.6.ml]",
   "language": "python",
   "name": "conda-env-3.6.ml-py"
  },
  "language_info": {
   "codemirror_mode": {
    "name": "ipython",
    "version": 3
   },
   "file_extension": ".py",
   "mimetype": "text/x-python",
   "name": "python",
   "nbconvert_exporter": "python",
   "pygments_lexer": "ipython3",
   "version": "3.6.2"
  }
 },
 "nbformat": 4,
 "nbformat_minor": 2
}
