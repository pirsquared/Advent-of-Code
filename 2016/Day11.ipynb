{
 "cells": [
  {
   "cell_type": "code",
   "execution_count": 4,
   "metadata": {},
   "outputs": [],
   "source": [
    "import os\n",
    "from aocd import get_data, submit1, submit2\n",
    "\n",
    "\n",
    "day, year = 11, 2016\n",
    "fn = f'input/Day{day:02}.txt'\n",
    "\n",
    "if not os.path.exists(fn):\n",
    "    with open(fn, 'w') as f:\n",
    "        f.write(get_data(day=day, year=year))\n",
    "    \n",
    "with open(fn) as f:\n",
    "    inp = f.read()"
   ]
  },
  {
   "cell_type": "markdown",
   "metadata": {},
   "source": [
    "AoC 2016 Day 11\n",
    "========\n",
    "https://adventofcode.com/2016/day/11"
   ]
  },
  {
   "cell_type": "code",
   "execution_count": 3,
   "metadata": {
    "collapsed": true
   },
   "outputs": [],
   "source": [
    "import numpy as np\n",
    "import pandas as pd\n",
    "from itertools import product, combinations, chain\n",
    "\n",
    "def build(node):\n",
    "    kind = np.array([0, 1, 0, 1, 0, 1, 0, 1, 0, 1])\n",
    "    mat = np.array([0, 0, 1, 1, 2, 2, 3, 3, 4, 4])\n",
    "\n",
    "    s = np.zeros((4, 2, 5), bool)\n",
    "    s[node, kind, mat] = True\n",
    "    return s\n",
    "\n",
    "def valid(node):\n",
    "    s = build(node)\n",
    "    return ~(\n",
    "        s[:, 0, :] * (1 - s[:, 1, :])\n",
    "        * s[:, 1].any(1, keepdims=True)\n",
    "    ).any()"
   ]
  },
  {
   "cell_type": "code",
   "execution_count": 120,
   "metadata": {},
   "outputs": [],
   "source": [
    "a = np.array(list(product(*(range(4) for _ in range(10)))))\n",
    "r = np.apply_along_axis(valid, 1, a)\n",
    "\n",
    "nodes = set(map(tuple, a[r]))"
   ]
  },
  {
   "cell_type": "code",
   "execution_count": 225,
   "metadata": {},
   "outputs": [],
   "source": [
    "floor = 0\n",
    "config = np.array([1, 1, 0, 0, 1, 1, 0, 0, 2, 1])"
   ]
  },
  {
   "cell_type": "code",
   "execution_count": 368,
   "metadata": {
    "collapsed": true
   },
   "outputs": [],
   "source": [
    "def where_2(floor, config, nodes):\n",
    "    width = config.shape[0]\n",
    "    where = np.flatnonzero(config == floor)\n",
    "    combs = sum(map(list, map(lambda n: combinations(where, n), [1, 2])), [])\n",
    "    bins  = [i * width + j for i, t in enumerate(combs) for j in t]\n",
    "    moves = np.bincount(bins, minlength=width * len(combs)).reshape(-1, width)\n",
    "    \n",
    "    to = {}\n",
    "    if floor < 3:\n",
    "        few = config[None, :] + moves\n",
    "        few = few[np.array(list(map(lambda a: tuple(a) in nodes, few)))]\n",
    "        if len(few) > 0:\n",
    "            to[floor + 1] = few\n",
    "    if floor > 0:\n",
    "        few = config[None, :] - moves\n",
    "        few = few[np.array(list(map(lambda a: tuple(a) in nodes, few)))]\n",
    "        if len(few) > 0:\n",
    "            to[floor - 1] = few\n",
    "    \n",
    "    return to"
   ]
  },
  {
   "cell_type": "code",
   "execution_count": 369,
   "metadata": {},
   "outputs": [
    {
     "name": "stdout",
     "output_type": "stream",
     "text": [
      "158191: 37: 31097"
     ]
    }
   ],
   "source": [
    "config = np.array([1, 1, 0, 0, 1, 1, 0, 0, 2, 1])\n",
    "goal = (3,) * 10\n",
    "floor = 0\n",
    "n = 0\n",
    "check = (floor,) + tuple(config)\n",
    "level = {check}\n",
    "graph = {n: level}\n",
    "seen = {check}\n",
    "\n",
    "while goal not in set(map(lambda x: x[1:], level)):\n",
    "    n += 1\n",
    "    next_level = set()\n",
    "    for j, check in enumerate(level):\n",
    "        floor, *config = check\n",
    "        config = np.array(config)\n",
    "        next_level |= {(k,) + tuple(row) for k, v in where_2(floor, config, nodes).items() for row in v}\n",
    "    next_level -= seen\n",
    "    seen |= next_level\n",
    "    level = next_level\n",
    "    graph[n] = level\n",
    "    if n % 1 == 0:\n",
    "        print(f'\\r{len(seen)}: {n}: {len(level)}', end='')"
   ]
  },
  {
   "cell_type": "code",
   "execution_count": 8,
   "metadata": {},
   "outputs": [
    {
     "data": {
      "text/plain": [
       "{1: array([[1, 1, 1, 1, 1, 1, 0, 0, 2, 1, 0, 0, 0, 0],\n",
       "        [1, 1, 0, 0, 1, 1, 1, 1, 2, 1, 0, 0, 0, 0],\n",
       "        [1, 1, 0, 0, 1, 1, 0, 0, 2, 1, 1, 1, 0, 0],\n",
       "        [1, 1, 0, 0, 1, 1, 0, 0, 2, 1, 0, 0, 1, 1]])}"
      ]
     },
     "execution_count": 8,
     "metadata": {},
     "output_type": "execute_result"
    }
   ],
   "source": [
    "config = np.array([1, 1, 0, 0, 1, 1, 0, 0, 2, 1, 0, 0, 0, 0])\n",
    "goal = (3,) * 14\n",
    "floor = 0\n",
    "where_2(floor, config)"
   ]
  },
  {
   "cell_type": "code",
   "execution_count": 7,
   "metadata": {
    "collapsed": true
   },
   "outputs": [],
   "source": [
    "def build(node):\n",
    "    kind = np.array([0, 1, 0, 1, 0, 1, 0, 1, 0, 1, 0, 1, 0, 1])\n",
    "    mat = np.array([0, 0, 1, 1, 2, 2, 3, 3, 4, 4, 5, 5, 6, 6])\n",
    "\n",
    "    s = np.zeros((4, 2, 7), bool)\n",
    "    s[node, kind, mat] = True\n",
    "    return s\n",
    "\n",
    "def valid(node):\n",
    "    s = build(node)\n",
    "    return ~(\n",
    "        s[:, 0, :] * (1 - s[:, 1, :])\n",
    "        * s[:, 1].any(1, keepdims=True)\n",
    "    ).any()\n",
    "\n",
    "def where_2(floor, config):\n",
    "    width = config.shape[0]\n",
    "    where = np.flatnonzero(config == floor)\n",
    "    combs = sum(map(list, map(lambda n: combinations(where, n), [1, 2])), [])\n",
    "    bins  = [i * width + j for i, t in enumerate(combs) for j in t]\n",
    "    moves = np.bincount(bins, minlength=width * len(combs)).reshape(-1, width)\n",
    "    \n",
    "    to = {}\n",
    "    if floor < 3:\n",
    "        few = config[None, :] + moves\n",
    "        few = few[list(map(valid, few))]\n",
    "        if len(few) > 0:\n",
    "            to[floor + 1] = few\n",
    "    if floor > 0:\n",
    "        few = config[None, :] - moves\n",
    "        few = few[list(map(valid, few))]\n",
    "        if len(few) > 0:\n",
    "            to[floor - 1] = few\n",
    "    \n",
    "    return to"
   ]
  },
  {
   "cell_type": "code",
   "execution_count": 9,
   "metadata": {},
   "outputs": [
    {
     "name": "stdout",
     "output_type": "stream",
     "text": [
      "6042507: 61: 573252"
     ]
    }
   ],
   "source": [
    "config = np.array([1, 1, 0, 0, 1, 1, 0, 0, 2, 1, 0, 0, 0, 0])\n",
    "goal = (3,) * 14\n",
    "floor = 0\n",
    "n = 0\n",
    "check = (floor,) + tuple(config)\n",
    "level = {check}\n",
    "graph = {n: level}\n",
    "seen = {check}\n",
    "\n",
    "while goal not in set(map(lambda x: x[1:], level)):\n",
    "    n += 1\n",
    "    next_level = set()\n",
    "    for j, check in enumerate(level):\n",
    "        floor, *config = check\n",
    "        config = np.array(config)\n",
    "        next_level |= {(k,) + tuple(row) for k, v in where_2(floor, config).items() for row in v}\n",
    "    next_level -= seen\n",
    "    seen |= next_level\n",
    "    level = next_level\n",
    "    graph[n] = level\n",
    "    if n % 1 == 0:\n",
    "        print(f'\\r{len(seen)}: {n}: {len(level)}', end='')"
   ]
  },
  {
   "cell_type": "code",
   "execution_count": null,
   "metadata": {
    "collapsed": true
   },
   "outputs": [],
   "source": []
  }
 ],
 "metadata": {
  "kernelspec": {
   "display_name": "Python [conda env:3.6.ml]",
   "language": "python",
   "name": "conda-env-3.6.ml-py"
  },
  "language_info": {
   "codemirror_mode": {
    "name": "ipython",
    "version": 3
   },
   "file_extension": ".py",
   "mimetype": "text/x-python",
   "name": "python",
   "nbconvert_exporter": "python",
   "pygments_lexer": "ipython3",
   "version": "3.6.2"
  }
 },
 "nbformat": 4,
 "nbformat_minor": 2
}
