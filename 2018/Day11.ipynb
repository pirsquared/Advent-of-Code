{
 "cells": [
  {
   "cell_type": "code",
   "execution_count": 3,
   "metadata": {},
   "outputs": [],
   "source": [
    "import numpy as np\n",
    "from scipy.signal import convolve2d\n",
    "from numba import njit\n",
    "\n",
    "from aocd import get_data"
   ]
  },
  {
   "cell_type": "code",
   "execution_count": 4,
   "metadata": {},
   "outputs": [],
   "source": [
    "data = get_data(year=2018, day=11)"
   ]
  },
  {
   "cell_type": "markdown",
   "metadata": {},
   "source": [
    "# Part 1"
   ]
  },
  {
   "cell_type": "code",
   "execution_count": 5,
   "metadata": {},
   "outputs": [],
   "source": [
    "def part1(data, k=3):\n",
    "    d = int(data)\n",
    "    j = np.arange(1, 301)\n",
    "    i = np.arange(1, 301)\n",
    "    r = j + 10\n",
    "    p = (r * i[:, None] + d) * r // 100 % 10 - 5\n",
    "    m = np.ones((k, k), int)\n",
    "    c = convolve2d(p, m, mode='same')\n",
    "\n",
    "    a = c.argmax()\n",
    "    y, x = divmod(a, c.shape[1])\n",
    "\n",
    "    return f\"{x},{y}\""
   ]
  },
  {
   "cell_type": "code",
   "execution_count": 6,
   "metadata": {},
   "outputs": [
    {
     "data": {
      "text/plain": [
       "'235,22'"
      ]
     },
     "execution_count": 6,
     "metadata": {},
     "output_type": "execute_result"
    }
   ],
   "source": [
    "part1(data)"
   ]
  },
  {
   "cell_type": "markdown",
   "metadata": {},
   "source": [
    "# Part 2"
   ]
  },
  {
   "cell_type": "code",
   "execution_count": 12,
   "metadata": {},
   "outputs": [],
   "source": [
    "def get_a(data):\n",
    "    d = int(data)\n",
    "    j = np.arange(1, 301)\n",
    "    i = np.arange(1, 301)\n",
    "    r = j + 10\n",
    "    p = (r * i[:, None] + d) * r // 100 % 10 - 5\n",
    "    return p\n"
   ]
  },
  {
   "cell_type": "code",
   "execution_count": 37,
   "metadata": {},
   "outputs": [],
   "source": [
    "@njit\n",
    "def f(a):\n",
    "    n, m = a.shape\n",
    "    assert n == m\n",
    "    b = np.zeros((m, m, m), np.int64)\n",
    "    \n",
    "    for j in range(m):\n",
    "        for i in range(m):\n",
    "            for k in range(m - max(i, j)):\n",
    "                b[i, j, k] += a[i:i+k, j:j+k].sum()\n",
    "    \n",
    "    c = b.argmax()\n",
    "    y, xz = divmod(c, m ** 2)\n",
    "    x, z = divmod(xz, m)\n",
    "    return x + 1, y + 1, z\n",
    "                "
   ]
  },
  {
   "cell_type": "code",
   "execution_count": 43,
   "metadata": {},
   "outputs": [],
   "source": [
    "def part2(data):\n",
    "    return ','.join(map(str, f(get_a(data))))"
   ]
  },
  {
   "cell_type": "code",
   "execution_count": 44,
   "metadata": {},
   "outputs": [
    {
     "name": "stdout",
     "output_type": "stream",
     "text": [
      "90,269,16\n",
      "232,251,12\n",
      "231,135,8\n"
     ]
    }
   ],
   "source": [
    "print(*map(part2, (18, 42, data)), sep='\\n')"
   ]
  },
  {
   "cell_type": "code",
   "execution_count": null,
   "metadata": {},
   "outputs": [],
   "source": []
  }
 ],
 "metadata": {
  "kernelspec": {
   "display_name": "Python 3",
   "language": "python",
   "name": "python3"
  },
  "language_info": {
   "codemirror_mode": {
    "name": "ipython",
    "version": 3
   },
   "file_extension": ".py",
   "mimetype": "text/x-python",
   "name": "python",
   "nbconvert_exporter": "python",
   "pygments_lexer": "ipython3",
   "version": "3.6.7"
  }
 },
 "nbformat": 4,
 "nbformat_minor": 2
}
