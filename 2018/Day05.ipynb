{
 "cells": [
  {
   "cell_type": "code",
   "execution_count": 1,
   "metadata": {},
   "outputs": [],
   "source": [
    "import pandas as pd\n",
    "import numpy as np\n",
    "import re\n",
    "from itertools import product\n",
    "from toolz.dicttoolz import merge_with\n",
    "from aocd import get_data"
   ]
  },
  {
   "cell_type": "code",
   "execution_count": 2,
   "metadata": {},
   "outputs": [],
   "source": [
    "data = get_data(year=2018, day=5)"
   ]
  },
  {
   "cell_type": "markdown",
   "metadata": {},
   "source": [
    "# Part 1"
   ]
  },
  {
   "cell_type": "code",
   "execution_count": 41,
   "metadata": {},
   "outputs": [],
   "source": [
    "def react(d):\n",
    "    k = len(d)\n",
    "    if k == 2:\n",
    "        return '' if (d[0].swapcase() == d[1]) else d\n",
    "    elif k < 2:\n",
    "        return d\n",
    "    else:\n",
    "        a = react(d[:k//2])\n",
    "        b = react(d[k//2:])\n",
    "        if len(a) * len(b) == 0:\n",
    "            return a + b\n",
    "        elif a[-1].swapcase() == b[0]:\n",
    "            return react(a[:-1] + b[1:])\n",
    "        else:\n",
    "            return a + b"
   ]
  },
  {
   "cell_type": "code",
   "execution_count": 30,
   "metadata": {},
   "outputs": [],
   "source": [
    "result = react(data)"
   ]
  },
  {
   "cell_type": "code",
   "execution_count": 31,
   "metadata": {},
   "outputs": [
    {
     "data": {
      "text/plain": [
       "11720"
      ]
     },
     "execution_count": 31,
     "metadata": {},
     "output_type": "execute_result"
    }
   ],
   "source": [
    "len(result)"
   ]
  },
  {
   "cell_type": "markdown",
   "metadata": {},
   "source": [
    "# Part 2"
   ]
  },
  {
   "cell_type": "code",
   "execution_count": 32,
   "metadata": {},
   "outputs": [],
   "source": [
    "from string import ascii_lowercase, ascii_uppercase"
   ]
  },
  {
   "cell_type": "code",
   "execution_count": 37,
   "metadata": {},
   "outputs": [],
   "source": [
    "import sys\n",
    "\n",
    "sys.setrecursionlimit(5000)"
   ]
  },
  {
   "cell_type": "code",
   "execution_count": 43,
   "metadata": {},
   "outputs": [
    {
     "name": "stdout",
     "output_type": "stream",
     "text": [
      "a: 11254\n",
      "b: 11242\n",
      "c: 11246\n",
      "d: 11308\n",
      "e: 11244\n",
      "f: 11256\n",
      "g: 11262\n",
      "h: 11272\n",
      "i: 11186\n",
      "j: 11252\n",
      "k: 11208\n",
      "l: 11250\n",
      "m: 11280\n",
      "n: 11234\n",
      "o: 11264\n",
      "p: 11192\n",
      "q: 11264\n",
      "r: 11258\n",
      "s: 11238\n",
      "t: 11210\n",
      "u: 11302\n",
      "v: 11286\n",
      "w: 4956\n",
      "x: 11274\n",
      "y: 11280\n",
      "z: 11224\n"
     ]
    }
   ],
   "source": [
    "results = {}\n",
    "\n",
    "for c, C in zip(ascii_lowercase, ascii_uppercase):\n",
    "    results[c] = len(react(data.replace(c, '').replace(C, '')))\n",
    "    print(f\"{c}: {results[c]}\")"
   ]
  },
  {
   "cell_type": "code",
   "execution_count": 44,
   "metadata": {},
   "outputs": [
    {
     "data": {
      "text/plain": [
       "4956"
      ]
     },
     "execution_count": 44,
     "metadata": {},
     "output_type": "execute_result"
    }
   ],
   "source": [
    "min(results.values())"
   ]
  },
  {
   "cell_type": "code",
   "execution_count": null,
   "metadata": {},
   "outputs": [],
   "source": []
  }
 ],
 "metadata": {
  "kernelspec": {
   "display_name": "Python 3",
   "language": "python",
   "name": "python3"
  },
  "language_info": {
   "codemirror_mode": {
    "name": "ipython",
    "version": 3
   },
   "file_extension": ".py",
   "mimetype": "text/x-python",
   "name": "python",
   "nbconvert_exporter": "python",
   "pygments_lexer": "ipython3",
   "version": "3.6.7"
  }
 },
 "nbformat": 4,
 "nbformat_minor": 2
}
