{
 "cells": [
  {
   "cell_type": "code",
   "execution_count": 62,
   "metadata": {},
   "outputs": [],
   "source": [
    "import pandas as pd\n",
    "import numpy as np\n",
    "import re\n",
    "from itertools import product\n",
    "from toolz.dicttoolz import merge_with\n",
    "from aocd import get_data"
   ]
  },
  {
   "cell_type": "code",
   "execution_count": 53,
   "metadata": {},
   "outputs": [],
   "source": [
    "data = get_data(year=2018, day=3)"
   ]
  },
  {
   "cell_type": "markdown",
   "metadata": {},
   "source": [
    "# Part 1"
   ]
  },
  {
   "cell_type": "code",
   "execution_count": 54,
   "metadata": {},
   "outputs": [],
   "source": [
    "def parse(line):\n",
    "    return (*map(int, re.match(\"^#(\\d+)\\s+@\\s+(\\d+),(\\d+): (\\d+)x(\\d+)\", line).groups()),)"
   ]
  },
  {
   "cell_type": "code",
   "execution_count": 55,
   "metadata": {},
   "outputs": [],
   "source": [
    "def p1(data): \n",
    "    df = pd.DataFrame([*map(parse, data.splitlines())], columns='id left top width height'.split())\n",
    "\n",
    "    max_right = df.eval('left + width').max()\n",
    "    max_bottom = df.eval('top + height').max()\n",
    "\n",
    "    a = np.zeros((max_bottom, max_right), int)\n",
    "\n",
    "    for t in df.itertuples():\n",
    "        for i in range(t.top, t.top + t.height):\n",
    "            for j in range(t.left, t.left + t.width):\n",
    "                a[i, j] += 1\n",
    "\n",
    "    return (a > 1).sum()"
   ]
  },
  {
   "cell_type": "code",
   "execution_count": 56,
   "metadata": {},
   "outputs": [
    {
     "data": {
      "text/plain": [
       "4"
      ]
     },
     "execution_count": 56,
     "metadata": {},
     "output_type": "execute_result"
    }
   ],
   "source": [
    "p1(\"\"\"#1 @ 1,3: 4x4\n",
    "#2 @ 3,1: 4x4\n",
    "#3 @ 5,5: 2x2\"\"\")"
   ]
  },
  {
   "cell_type": "code",
   "execution_count": 57,
   "metadata": {},
   "outputs": [
    {
     "data": {
      "text/plain": [
       "110195"
      ]
     },
     "execution_count": 57,
     "metadata": {},
     "output_type": "execute_result"
    }
   ],
   "source": [
    "p1(data)"
   ]
  },
  {
   "cell_type": "markdown",
   "metadata": {},
   "source": [
    "# Part 2"
   ]
  },
  {
   "cell_type": "code",
   "execution_count": 51,
   "metadata": {},
   "outputs": [],
   "source": [
    "def p2(data): \n",
    "    df = pd.DataFrame([*map(parse, data.splitlines())], columns='id left top width height'.split())\n",
    "\n",
    "    max_right = df.eval('left + width').max()\n",
    "    max_bottom = df.eval('top + height').max()\n",
    "\n",
    "    a = np.zeros((max_bottom, max_right), int)\n",
    "\n",
    "    for t in df.itertuples():\n",
    "        for i in range(t.top, t.top + t.height):\n",
    "            for j in range(t.left, t.left + t.width):\n",
    "                a[i, j] += 1\n",
    "\n",
    "    for t in df.itertuples():\n",
    "        i = np.arange(t.top, t.height + t.top)\n",
    "        j = np.arange(t.left, t.left + t.width)\n",
    "        if a[i.repeat(len(j)), np.tile(j, len(i))].sum() == t.width * t.height:\n",
    "            return t.id"
   ]
  },
  {
   "cell_type": "code",
   "execution_count": 58,
   "metadata": {},
   "outputs": [
    {
     "data": {
      "text/plain": [
       "894"
      ]
     },
     "execution_count": 58,
     "metadata": {},
     "output_type": "execute_result"
    }
   ],
   "source": [
    "p2(data)"
   ]
  },
  {
   "cell_type": "markdown",
   "metadata": {},
   "source": [
    "# Part 1 (do over)"
   ]
  },
  {
   "cell_type": "code",
   "execution_count": 69,
   "metadata": {},
   "outputs": [],
   "source": [
    "def dct(line):\n",
    "    i, l, t, w, h = parse(line)\n",
    "    return dict.fromkeys(product(range(t, t + h), range(l, l + w)), 1)\n",
    "\n",
    "def alld(data):\n",
    "    return merge_with(sum, *map(dct, data.splitlines()))"
   ]
  },
  {
   "cell_type": "code",
   "execution_count": 70,
   "metadata": {},
   "outputs": [],
   "source": [
    "def p1_(data):\n",
    "    d = alld(data)\n",
    "    return sum([x > 1 for x in d.values()])"
   ]
  },
  {
   "cell_type": "code",
   "execution_count": 71,
   "metadata": {},
   "outputs": [
    {
     "data": {
      "text/plain": [
       "110195"
      ]
     },
     "execution_count": 71,
     "metadata": {},
     "output_type": "execute_result"
    }
   ],
   "source": [
    "p1_(data)"
   ]
  },
  {
   "cell_type": "markdown",
   "metadata": {},
   "source": [
    "# Part 2 (do over)"
   ]
  },
  {
   "cell_type": "code",
   "execution_count": 72,
   "metadata": {},
   "outputs": [],
   "source": [
    "def p2_(data):\n",
    "    ds = {}\n",
    "    for line in data.splitlines():\n",
    "        i, l, t, w, h = parse(line)\n",
    "        ds[i] = dict.fromkeys(product(range(t, t + h), range(l, l + w)), 1)\n",
    "        \n",
    "    d = merge_with(sum, *ds.values())\n",
    "    \n",
    "    for i, v in ds.items():\n",
    "        if all(d[k] == 1 for k in v):\n",
    "            return i\n",
    "    "
   ]
  },
  {
   "cell_type": "code",
   "execution_count": 73,
   "metadata": {},
   "outputs": [
    {
     "data": {
      "text/plain": [
       "894"
      ]
     },
     "execution_count": 73,
     "metadata": {},
     "output_type": "execute_result"
    }
   ],
   "source": [
    "p2_(data)"
   ]
  }
 ],
 "metadata": {
  "kernelspec": {
   "display_name": "Python 3",
   "language": "python",
   "name": "python3"
  },
  "language_info": {
   "codemirror_mode": {
    "name": "ipython",
    "version": 3
   },
   "file_extension": ".py",
   "mimetype": "text/x-python",
   "name": "python",
   "nbconvert_exporter": "python",
   "pygments_lexer": "ipython3",
   "version": "3.6.7"
  }
 },
 "nbformat": 4,
 "nbformat_minor": 2
}
