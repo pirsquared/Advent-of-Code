{
 "cells": [
  {
   "cell_type": "code",
   "execution_count": 1,
   "metadata": {},
   "outputs": [],
   "source": [
    "from collections import defaultdict\n",
    "from parse import parse\n",
    "import string\n",
    "\n",
    "from aocd import get_data"
   ]
  },
  {
   "cell_type": "code",
   "execution_count": 2,
   "metadata": {},
   "outputs": [],
   "source": [
    "data = get_data(year=2018, day=7)"
   ]
  },
  {
   "cell_type": "code",
   "execution_count": 3,
   "metadata": {},
   "outputs": [],
   "source": [
    "test = \"\"\"Step C must be finished before step A can begin.\n",
    "Step C must be finished before step F can begin.\n",
    "Step A must be finished before step B can begin.\n",
    "Step A must be finished before step D can begin.\n",
    "Step B must be finished before step E can begin.\n",
    "Step D must be finished before step E can begin.\n",
    "Step F must be finished before step E can begin.\"\"\""
   ]
  },
  {
   "cell_type": "markdown",
   "metadata": {},
   "source": [
    "# Part 1"
   ]
  },
  {
   "cell_type": "code",
   "execution_count": 4,
   "metadata": {},
   "outputs": [
    {
     "name": "stdout",
     "output_type": "stream",
     "text": [
      "CGKMUWXFAIHSYDNLJQTREOPZBV\n",
      "\n",
      "CABDFE\n"
     ]
    }
   ],
   "source": [
    "template = \"Step {} must be finished before step {} can begin.\"\n",
    "\n",
    "def p(x):\n",
    "  return parse(template, x).fixed\n",
    "\n",
    "def part1(data):\n",
    "  edges = [*map(p, data.splitlines())]\n",
    "  g = defaultdict(set)\n",
    "\n",
    "  for f, t in edges:\n",
    "    g[f] |= {t}\n",
    "\n",
    "  path = []\n",
    "\n",
    "  while g:\n",
    "    path.append(min({*g} - set().union(*g.values())))\n",
    "    term = g.pop(path[-1])\n",
    "\n",
    "  path.append(term.pop())\n",
    "  \n",
    "  return ''.join(path)\n",
    "\n",
    "print(*map(part1, (data, test)), sep='\\n\\n')\n"
   ]
  },
  {
   "cell_type": "markdown",
   "metadata": {},
   "source": [
    "# Part 2"
   ]
  },
  {
   "cell_type": "code",
   "execution_count": 5,
   "metadata": {},
   "outputs": [
    {
     "name": "stdout",
     "output_type": "stream",
     "text": [
      "('CGUXKMFSWAIHYDNQLJTREOPZBV', 1046)\n",
      "\n",
      "('CABFDE', 15)\n"
     ]
    }
   ],
   "source": [
    "def part2(data, base, num):\n",
    "  \n",
    "  times = dict(zip(string.ascii_uppercase, range(1, 27)))\n",
    "  \n",
    "  edges = [*map(p, data.splitlines())]\n",
    "  g = defaultdict(set)\n",
    "\n",
    "  for f, t in edges:\n",
    "    g[f] |= {t}\n",
    "\n",
    "  path = []\n",
    "  q = {}\n",
    "  timer = 0\n",
    "  term = set()\n",
    "\n",
    "  while g:\n",
    "    c = {*g} - set().union(*g.values()) - {*q}\n",
    "    while (len(q) < num) and c:\n",
    "      n = min(c)  \n",
    "      q[n] = times[n] + base\n",
    "      c.remove(n)\n",
    "      \n",
    "    t = min(q.values())\n",
    "    timer += t\n",
    "    for k, v in sorted(q.items(), key=lambda tup: tup[0]):\n",
    "      if v == t:\n",
    "        del q[k]\n",
    "        path.append(k)\n",
    "        term = g.pop(k)\n",
    "      else:\n",
    "        q[k] -= t\n",
    "        \n",
    "    if not g and term:\n",
    "      g[term.pop()] = set()\n",
    "  \n",
    "  return ''.join(path), timer\n",
    "\n",
    "print(*map(part2, (data, test), (60, 0), (5, 2)), sep='\\n\\n')\n"
   ]
  },
  {
   "cell_type": "code",
   "execution_count": null,
   "metadata": {},
   "outputs": [],
   "source": []
  }
 ],
 "metadata": {
  "kernelspec": {
   "display_name": "Python 3",
   "language": "python",
   "name": "python3"
  },
  "language_info": {
   "codemirror_mode": {
    "name": "ipython",
    "version": 3
   },
   "file_extension": ".py",
   "mimetype": "text/x-python",
   "name": "python",
   "nbconvert_exporter": "python",
   "pygments_lexer": "ipython3",
   "version": "3.6.7"
  }
 },
 "nbformat": 4,
 "nbformat_minor": 2
}
