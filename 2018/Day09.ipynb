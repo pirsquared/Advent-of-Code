{
 "cells": [
  {
   "cell_type": "code",
   "execution_count": 3,
   "metadata": {},
   "outputs": [],
   "source": [
    "from collections import defaultdict\n",
    "from parse import parse\n",
    "import string\n",
    "from itertools import cycle\n",
    "\n",
    "from aocd import get_data"
   ]
  },
  {
   "cell_type": "code",
   "execution_count": 4,
   "metadata": {},
   "outputs": [],
   "source": [
    "data = get_data(year=2018, day=9)"
   ]
  },
  {
   "cell_type": "code",
   "execution_count": 10,
   "metadata": {},
   "outputs": [],
   "source": [
    "test = {\n",
    "    \"9 players; last marble is worth 25 points\": 32,\n",
    "    \"10 players; last marble is worth 1618 points\": 8317,\n",
    "    \"13 players; last marble is worth 7999 points\": 146373,\n",
    "    \"17 players; last marble is worth 1104 points\": 2764,\n",
    "    \"21 players; last marble is worth 6111 points\": 54718,\n",
    "    \"30 players; last marble is worth 5807 points\": 37305\n",
    "}"
   ]
  },
  {
   "cell_type": "markdown",
   "metadata": {},
   "source": [
    "# Linked List"
   ]
  },
  {
   "cell_type": "code",
   "execution_count": 61,
   "metadata": {},
   "outputs": [],
   "source": [
    "class link(object):\n",
    "    def __init__(self, value, parent=None, child=None):\n",
    "        self.parent = self if parent is None else parent\n",
    "        self.child = self if child is None else child\n",
    "        self.value = value\n",
    "    \n",
    "    def nxt(self, n=1):\n",
    "        c = self\n",
    "        for i in range(n):\n",
    "            c = c.child\n",
    "        return c\n",
    "    \n",
    "    def prv(self, n=1):\n",
    "        p = self\n",
    "        for i in range(n):\n",
    "            p = p.parent\n",
    "        return p\n",
    "    \n",
    "    def ins(self, value, n=1):\n",
    "        p = self.nxt(n)\n",
    "        c = p.child\n",
    "        new = link(value, p, c)\n",
    "        p.child = c.parent = new\n",
    "        return new\n",
    "    \n",
    "    def rem(self, n=7):\n",
    "        r = self.prv(7)\n",
    "        p = r.parent\n",
    "        c = r.child\n",
    "        p.child = c\n",
    "        c.parent = p\n",
    "        return c, r.value"
   ]
  },
  {
   "cell_type": "markdown",
   "metadata": {},
   "source": [
    "# Part 1"
   ]
  },
  {
   "cell_type": "code",
   "execution_count": 9,
   "metadata": {},
   "outputs": [
    {
     "name": "stdout",
     "output_type": "stream",
     "text": [
      "441 players; last marble is worth 71032 points\n",
      "9 players; last marble is worth 25 points\n"
     ]
    }
   ],
   "source": [
    "print(data)\n",
    "print(test)"
   ]
  },
  {
   "cell_type": "code",
   "execution_count": 74,
   "metadata": {},
   "outputs": [],
   "source": [
    "def part1(data, mod=23, fac=1):\n",
    "    template = \"{:d} players; last marble is worth {:d} points\"\n",
    "    num_players, num_marbles = parse(template, data).fixed\n",
    "    num_marbles *= fac\n",
    "    \n",
    "    players = [0 for _ in range(num_players)]\n",
    "    current = link(0)\n",
    "    \n",
    "    for i in range(1, num_marbles + 1):\n",
    "\n",
    "        player = (i - 1) % num_players\n",
    "        if i % mod == 0:\n",
    "            current, value = current.rem()\n",
    "            players[player] += i + value\n",
    "        else:\n",
    "            current = current.ins(i)\n",
    "        \n",
    "    return max(players)"
   ]
  },
  {
   "cell_type": "code",
   "execution_count": 75,
   "metadata": {
    "scrolled": false
   },
   "outputs": [
    {
     "data": {
      "text/plain": [
       "32"
      ]
     },
     "execution_count": 75,
     "metadata": {},
     "output_type": "execute_result"
    }
   ],
   "source": [
    "part1(\"9 players; last marble is worth 25 points\")"
   ]
  },
  {
   "cell_type": "code",
   "execution_count": 76,
   "metadata": {},
   "outputs": [
    {
     "name": "stdout",
     "output_type": "stream",
     "text": [
      "9 players; last marble is worth 25 points: high score should be 32: calculated 32\n",
      "10 players; last marble is worth 1618 points: high score should be 8317: calculated 8317\n",
      "13 players; last marble is worth 7999 points: high score should be 146373: calculated 146373\n",
      "17 players; last marble is worth 1104 points: high score should be 2764: calculated 2764\n",
      "21 players; last marble is worth 6111 points: high score should be 54718: calculated 54718\n",
      "30 players; last marble is worth 5807 points: high score should be 37305: calculated 37305\n"
     ]
    }
   ],
   "source": [
    "for k, v in test.items():\n",
    "    print(f\"{k}: high score should be {v}: calculated {part1(k)}\")"
   ]
  },
  {
   "cell_type": "code",
   "execution_count": 77,
   "metadata": {},
   "outputs": [
    {
     "data": {
      "text/plain": [
       "393229"
      ]
     },
     "execution_count": 77,
     "metadata": {},
     "output_type": "execute_result"
    }
   ],
   "source": [
    "part1(data)"
   ]
  },
  {
   "cell_type": "markdown",
   "metadata": {},
   "source": [
    "# Part 2"
   ]
  },
  {
   "cell_type": "code",
   "execution_count": 78,
   "metadata": {},
   "outputs": [
    {
     "data": {
      "text/plain": [
       "3273405195"
      ]
     },
     "execution_count": 78,
     "metadata": {},
     "output_type": "execute_result"
    }
   ],
   "source": [
    "part1(data, fac=100)"
   ]
  },
  {
   "cell_type": "code",
   "execution_count": 80,
   "metadata": {},
   "outputs": [
    {
     "name": "stdout",
     "output_type": "stream",
     "text": [
      "87.5 ms ± 2.67 ms per loop (mean ± std. dev. of 7 runs, 1 loop each)\n"
     ]
    }
   ],
   "source": [
    "%timeit -n1 part1(data, fac=1)"
   ]
  },
  {
   "cell_type": "code",
   "execution_count": 79,
   "metadata": {},
   "outputs": [
    {
     "name": "stdout",
     "output_type": "stream",
     "text": [
      "9.37 s ± 77.1 ms per loop (mean ± std. dev. of 7 runs, 1 loop each)\n"
     ]
    }
   ],
   "source": [
    "%timeit -n1 part1(data, fac=100)"
   ]
  },
  {
   "cell_type": "code",
   "execution_count": null,
   "metadata": {},
   "outputs": [],
   "source": []
  }
 ],
 "metadata": {
  "kernelspec": {
   "display_name": "Python 3",
   "language": "python",
   "name": "python3"
  },
  "language_info": {
   "codemirror_mode": {
    "name": "ipython",
    "version": 3
   },
   "file_extension": ".py",
   "mimetype": "text/x-python",
   "name": "python",
   "nbconvert_exporter": "python",
   "pygments_lexer": "ipython3",
   "version": "3.6.7"
  }
 },
 "nbformat": 4,
 "nbformat_minor": 2
}
