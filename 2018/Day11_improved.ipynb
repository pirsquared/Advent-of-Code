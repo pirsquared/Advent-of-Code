{
  "nbformat": 4,
  "nbformat_minor": 0,
  "metadata": {
    "colab": {
      "name": "Day11_improved",
      "version": "0.3.2",
      "provenance": [],
      "collapsed_sections": [],
      "include_colab_link": true
    },
    "kernelspec": {
      "name": "python3",
      "display_name": "Python 3"
    }
  },
  "cells": [
    {
      "cell_type": "markdown",
      "metadata": {
        "id": "view-in-github",
        "colab_type": "text"
      },
      "source": [
        "<a href=\"https://colab.research.google.com/github/pirsquared/Advent-of-Code/blob/master/2018/Day11_improved.ipynb\" target=\"_parent\"><img src=\"https://colab.research.google.com/assets/colab-badge.svg\" alt=\"Open In Colab\"/></a>"
      ]
    },
    {
      "metadata": {
        "id": "5OAIqnJclBQI",
        "colab_type": "text"
      },
      "cell_type": "markdown",
      "source": [
        "# Faster\n",
        "`numba` isn't necessary but does help"
      ]
    },
    {
      "metadata": {
        "id": "p9ut5YnPjX5-",
        "colab_type": "code",
        "colab": {
          "base_uri": "https://localhost:8080/",
          "height": 69
        },
        "outputId": "3df38155-c84e-465a-c713-eb7c103c77a6"
      },
      "cell_type": "code",
      "source": [
        "!pip install numba"
      ],
      "execution_count": 1,
      "outputs": [
        {
          "output_type": "stream",
          "text": [
            "Requirement already satisfied: numba in /usr/local/lib/python3.6/dist-packages (0.41.0)\n",
            "Requirement already satisfied: numpy in /usr/local/lib/python3.6/dist-packages (from numba) (1.14.6)\n",
            "Requirement already satisfied: llvmlite>=0.26.0dev0 in /usr/local/lib/python3.6/dist-packages (from numba) (0.26.0)\n"
          ],
          "name": "stdout"
        }
      ]
    },
    {
      "metadata": {
        "id": "e74_WsX8kNgI",
        "colab_type": "code",
        "colab": {}
      },
      "cell_type": "code",
      "source": [
        "import pandas as pd\n",
        "import numpy as np\n",
        "\n",
        "from numba import njit"
      ],
      "execution_count": 0,
      "outputs": []
    },
    {
      "metadata": {
        "id": "7q5J5CkjmRwN",
        "colab_type": "code",
        "colab": {}
      },
      "cell_type": "code",
      "source": [
        " def get_a(data):\n",
        "    d = int(data)\n",
        "    j = np.arange(1, 301)\n",
        "    i = np.arange(1, 301)\n",
        "    r = j + 10\n",
        "    p = (r * i[:, None] + d) * r // 100 % 10 - 5\n",
        "    return p"
      ],
      "execution_count": 0,
      "outputs": []
    },
    {
      "metadata": {
        "id": "9Nfd75qiee58",
        "colab_type": "code",
        "outputId": "52903956-aab6-4f6e-b1a3-1b51402f7574",
        "colab": {
          "base_uri": "https://localhost:8080/",
          "height": 35
        }
      },
      "cell_type": "code",
      "source": [
        "@njit\n",
        "def f(c):\n",
        "  n = c.shape[0]\n",
        "  n = n - 1\n",
        "  maxpower = np.array([0, 0, 0, 0])\n",
        "  \n",
        "  for i in range(n):\n",
        "    for j in range(n):\n",
        "      for k in range(n - max(i, j)):\n",
        "        power = g(c, i, j, k)\n",
        "        if power > maxpower[-1]:\n",
        "          maxpower[:] = [j + 1, i + 1, k, power]\n",
        "          \n",
        "  return maxpower\n",
        "        \n",
        "@njit\n",
        "def g(a, i, j, k):\n",
        "  return a[i+k, j+k] - a[i, j+k] - a[i+k, j] + a[i, j]\n",
        "        "
      ],
      "execution_count": 4,
      "outputs": [
        {
          "output_type": "execute_result",
          "data": {
            "text/plain": [
              "array([ 90, 269,  16, 113])"
            ]
          },
          "metadata": {
            "tags": []
          },
          "execution_count": 4
        }
      ]
    },
    {
      "metadata": {
        "id": "kx-Mvv5hkIFT",
        "colab_type": "text"
      },
      "cell_type": "markdown",
      "source": [
        "# Deal Maker\n",
        "By calculating the 2-D cumulative sumation, I've pre-calculated much of what will be needed to determine the convolutions.  I'll will have reduced every sum over a kernel to an operation over four numbers."
      ]
    },
    {
      "metadata": {
        "id": "6RiGr8E5kHj5",
        "colab_type": "code",
        "colab": {}
      },
      "cell_type": "code",
      "source": [
        "def pad(a):\n",
        "  n, m = a.shape\n",
        "  c = np.zeros((n + 1, m + 1), a.dtype)\n",
        "  c[1:, 1:] = a.cumsum(0).cumsum(1)\n",
        "  \n",
        "  return c"
      ],
      "execution_count": 0,
      "outputs": []
    },
    {
      "metadata": {
        "id": "v5dH9AhZkoLf",
        "colab_type": "code",
        "colab": {
          "base_uri": "https://localhost:8080/",
          "height": 35
        },
        "outputId": "03f3a866-6b76-4a8a-c173-8a5c7f38914a"
      },
      "cell_type": "code",
      "source": [
        "f(pad(get_a(18)))"
      ],
      "execution_count": 5,
      "outputs": [
        {
          "output_type": "execute_result",
          "data": {
            "text/plain": [
              "array([ 90, 269,  16, 113])"
            ]
          },
          "metadata": {
            "tags": []
          },
          "execution_count": 5
        }
      ]
    },
    {
      "metadata": {
        "id": "goiS0bB2hnob",
        "colab_type": "code",
        "colab": {
          "base_uri": "https://localhost:8080/",
          "height": 35
        },
        "outputId": "b40422ae-e628-4331-86bf-f099e1669f98"
      },
      "cell_type": "code",
      "source": [
        "f(pad(get_a(42)))"
      ],
      "execution_count": 6,
      "outputs": [
        {
          "output_type": "execute_result",
          "data": {
            "text/plain": [
              "array([232, 251,  12, 119])"
            ]
          },
          "metadata": {
            "tags": []
          },
          "execution_count": 6
        }
      ]
    },
    {
      "metadata": {
        "id": "UNhOqmzUkv95",
        "colab_type": "code",
        "colab": {
          "base_uri": "https://localhost:8080/",
          "height": 35
        },
        "outputId": "f55ae446-ff1b-462d-f21c-044a5cd0f426"
      },
      "cell_type": "code",
      "source": [
        "f(pad(get_a(5177)))"
      ],
      "execution_count": 7,
      "outputs": [
        {
          "output_type": "execute_result",
          "data": {
            "text/plain": [
              "array([231, 135,   8,  80])"
            ]
          },
          "metadata": {
            "tags": []
          },
          "execution_count": 7
        }
      ]
    },
    {
      "metadata": {
        "id": "LkeaoYI-k7QA",
        "colab_type": "code",
        "colab": {
          "base_uri": "https://localhost:8080/",
          "height": 35
        },
        "outputId": "b335b2b5-d4d8-428d-9222-bab85701895f"
      },
      "cell_type": "code",
      "source": [
        "%timeit f(pad(get_a(5177)))"
      ],
      "execution_count": 8,
      "outputs": [
        {
          "output_type": "stream",
          "text": [
            "100 loops, best of 3: 18.4 ms per loop\n"
          ],
          "name": "stdout"
        }
      ]
    }
  ]
}