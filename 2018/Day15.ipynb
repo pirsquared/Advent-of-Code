{
 "cells": [
  {
   "cell_type": "code",
   "execution_count": 65,
   "metadata": {},
   "outputs": [],
   "source": [
    "import numpy as np\n",
    "import pandas as pd\n",
    "from parse import parse\n",
    "import pprint\n",
    "from aocd import get_data\n",
    "from heapq import heappop, heappush, heapify\n",
    "from itertools import cycle\n",
    "\n",
    "data = get_data(year=2018, day=15)\n",
    "\n",
    "test = r\"\"\"#########\n",
    "#G..G..G#\n",
    "#.......#\n",
    "#.......#\n",
    "#G..E..G#\n",
    "#.......#\n",
    "#.......#\n",
    "#G..G..G#\n",
    "#########\"\"\""
   ]
  },
  {
   "cell_type": "code",
   "execution_count": 99,
   "metadata": {},
   "outputs": [],
   "source": [
    "class Node(object):\n",
    "    def __init__(self, x, y, e=None):\n",
    "        self.x = x\n",
    "        self.y = y\n",
    "        self.e = set() if e is None else e\n",
    "        \n",
    "    @property\n",
    "    def pos(self):\n",
    "        return self.y, self.x\n",
    "        \n",
    "    def __hash__(self):\n",
    "        return hash(self.pos)\n",
    "    \n",
    "    def __lt__(self, other):\n",
    "        return self.pos < other.pos\n",
    "    \n",
    "    def __gt__(self, other):\n",
    "        return self.pos > other.pos\n",
    "    \n",
    "    def __eq__(self, other):\n",
    "        return self.pos == other.pos\n",
    "    \n",
    "    def __repr__(self):\n",
    "        return f\"(x: {self.x}, y: {self.y}) Edge Count: {len(self.e)}\"\n",
    "    \n",
    "    @property\n",
    "    def sides(self):\n",
    "        return {(self.x + i, self.y + j) for i, j in [(-1, 0), (1, 0), (0, -1), (0, 1)]}\n",
    "    \n",
    "    def attackable(self, faction):\n",
    "        return {\n",
    "            node for node in self.e\n",
    "            if isinstance(node, Creature)\n",
    "            and node.faction != faction\n",
    "        }\n",
    "    \n",
    "    def move(self, other):\n",
    "        self.x, other.x = other.x, self.x\n",
    "        self.y, other.y = other.y, self.y\n",
    "                    \n",
    "    def non_creature_edges(self):\n",
    "        return {node for node in self.e if not isinstance(node, Creature)}\n",
    "        \n",
    "\n",
    "class Creature(Node):\n",
    "    def __init__(self, x, y, hp, ap, faction):\n",
    "        super().__init__(x, y)\n",
    "        self.hp = hp\n",
    "        self.ap = ap\n",
    "        self.faction = faction\n",
    "    \n",
    "    def __repr__(self):\n",
    "        return f\"{super().__repr__()} | {self.faction}: AP={self.ap} <{self.hp}>\"\n",
    "    \n",
    "    def attack(self, enemy):\n",
    "        enemy.hp -= self.ap\n",
    "        if enemy.hp <= 0:\n",
    "            enemy = Node(enemy.x, enemy.y, enemy.e)\n",
    "            \n",
    "        return enemy\n",
    "\n",
    "class Graph(object):\n",
    "    def __init__(self, nodes):\n",
    "        self.nodes = nodes\n",
    "        self.setup()\n",
    "        \n",
    "    def setup(self):\n",
    "        self._nodes = {node.pos[::-1]: node for node in self.nodes}\n",
    "        self.connect()\n",
    "        \n",
    "    def connect(self):\n",
    "        for node in self.nodes:\n",
    "            node.e = {*filter(None, map(self.get, node.sides))}\n",
    "    \n",
    "    def __repr__(self):\n",
    "        return pprint.pformat(self.nodes)\n",
    "    \n",
    "    def __getitem__(self, item):\n",
    "        return self._nodes[item]\n",
    "    \n",
    "    def get(self, item):\n",
    "        return self._nodes.get(item)\n",
    "\n",
    "def to_array(data):\n",
    "    return np.array([[*x] for x in data.splitlines()])\n",
    "\n",
    "def part1(data):\n",
    "\n",
    "    a = to_array(data)\n",
    "\n",
    "    c = (a == 'E') | (a == 'G')\n",
    "    o = (a == '.')\n",
    "\n",
    "    creatures = [Creature(x, y, 200, 3, a[y, x]) for y, x in zip(*np.where(c))]\n",
    "    graph = Graph({*map(Node, *np.where(o))} | {*creatures})\n",
    "\n",
    "\n",
    "    return creatures, graph"
   ]
  },
  {
   "cell_type": "code",
   "execution_count": 104,
   "metadata": {},
   "outputs": [
    {
     "ename": "KeyError",
     "evalue": "(x: 7, y: 3) Edge Count: 3 | E: AP=3 <200>",
     "output_type": "error",
     "traceback": [
      "\u001b[0;31m---------------------------------------------------------------------------\u001b[0m",
      "\u001b[0;31mKeyError\u001b[0m                                  Traceback (most recent call last)",
      "\u001b[0;32m<ipython-input-104-6cfc3e6f9e14>\u001b[0m in \u001b[0;36m<module>\u001b[0;34m()\u001b[0m\n\u001b[1;32m     14\u001b[0m         \u001b[0;32mif\u001b[0m \u001b[0mattackable\u001b[0m\u001b[0;34m:\u001b[0m\u001b[0;34m\u001b[0m\u001b[0;34m\u001b[0m\u001b[0m\n\u001b[1;32m     15\u001b[0m             \u001b[0menemy\u001b[0m \u001b[0;34m=\u001b[0m \u001b[0mmin\u001b[0m\u001b[0;34m(\u001b[0m\u001b[0mattackable\u001b[0m\u001b[0;34m,\u001b[0m \u001b[0mkey\u001b[0m\u001b[0;34m=\u001b[0m\u001b[0;32mlambda\u001b[0m \u001b[0mc\u001b[0m\u001b[0;34m:\u001b[0m \u001b[0;34m(\u001b[0m\u001b[0mc\u001b[0m\u001b[0;34m.\u001b[0m\u001b[0mhp\u001b[0m\u001b[0;34m,\u001b[0m \u001b[0mc\u001b[0m\u001b[0;34m)\u001b[0m\u001b[0;34m)\u001b[0m\u001b[0;34m\u001b[0m\u001b[0;34m\u001b[0m\u001b[0m\n\u001b[0;32m---> 16\u001b[0;31m             \u001b[0mgraph\u001b[0m\u001b[0;34m.\u001b[0m\u001b[0mnodes\u001b[0m\u001b[0;34m.\u001b[0m\u001b[0mremove\u001b[0m\u001b[0;34m(\u001b[0m\u001b[0menemy\u001b[0m\u001b[0;34m)\u001b[0m\u001b[0;34m\u001b[0m\u001b[0;34m\u001b[0m\u001b[0m\n\u001b[0m\u001b[1;32m     17\u001b[0m             \u001b[0mgraph\u001b[0m\u001b[0;34m.\u001b[0m\u001b[0mnodes\u001b[0m\u001b[0;34m.\u001b[0m\u001b[0madd\u001b[0m\u001b[0;34m(\u001b[0m\u001b[0mcreature\u001b[0m\u001b[0;34m.\u001b[0m\u001b[0mattack\u001b[0m\u001b[0;34m(\u001b[0m\u001b[0menemy\u001b[0m\u001b[0;34m)\u001b[0m\u001b[0;34m)\u001b[0m\u001b[0;34m\u001b[0m\u001b[0;34m\u001b[0m\u001b[0m\n\u001b[1;32m     18\u001b[0m             \u001b[0mgraph\u001b[0m\u001b[0;34m.\u001b[0m\u001b[0mconnect\u001b[0m\u001b[0;34m(\u001b[0m\u001b[0;34m)\u001b[0m\u001b[0;34m\u001b[0m\u001b[0;34m\u001b[0m\u001b[0m\n",
      "\u001b[0;31mKeyError\u001b[0m: (x: 7, y: 3) Edge Count: 3 | E: AP=3 <200>"
     ]
    }
   ],
   "source": [
    "creatures, graph = part1(test)\n",
    "\n",
    "someone_moved = True\n",
    "round_number = 0\n",
    "while someone_moved:\n",
    "    someone_moved = False\n",
    "    \n",
    "    for creature in creatures:\n",
    "        if creature.hp <= 0:\n",
    "            continue\n",
    "\n",
    "        faction = creature.faction\n",
    "        attackable = creature.attackable(faction)\n",
    "        if attackable:\n",
    "            enemy = min(attackable, key=lambda c: (c.hp, c))\n",
    "            graph.nodes.remove(enemy)\n",
    "            graph.nodes.add(creature.attack(enemy))\n",
    "            graph.connect()\n",
    "\n",
    "            someone_moved = True\n",
    "\n",
    "        else:\n",
    "            seen = creature.e\n",
    "            q = [(e,) for e in creature.e]\n",
    "            heapify(q)\n",
    "\n",
    "            while q:\n",
    "                path = heappop(q)\n",
    "                attackable = path[-1].attackable(faction)\n",
    "                if attackable:\n",
    "                    creature.move(path[0])\n",
    "                    graph.connect()\n",
    "                    someone_moved = True\n",
    "                else:\n",
    "                    nodes = path[-1].non_creature_edges() - seen\n",
    "                    for node in nodes:\n",
    "                        heappush(q, path + (node,))\n",
    "                    seen |= nodes\n",
    "                \n",
    "            \n",
    "    round_number += 1"
   ]
  },
  {
   "cell_type": "code",
   "execution_count": 105,
   "metadata": {},
   "outputs": [
    {
     "data": {
      "text/plain": [
       "[(x: 2, y: 1) Edge Count: 3 | G: AP=3 <200>,\n",
       " (x: 3, y: 1) Edge Count: 3 | G: AP=3 <200>,\n",
       " (x: 6, y: 1) Edge Count: 3 | G: AP=3 <200>,\n",
       " (x: 1, y: 3) Edge Count: 3 | G: AP=3 <200>,\n",
       " (x: 7, y: 3) Edge Count: 3 | E: AP=3 <200>,\n",
       " (x: 5, y: 4) Edge Count: 4 | G: AP=3 <200>,\n",
       " (x: 1, y: 5) Edge Count: 3 | G: AP=3 <200>,\n",
       " (x: 4, y: 5) Edge Count: 4 | G: AP=3 <200>,\n",
       " (x: 7, y: 6) Edge Count: 3 | G: AP=3 <200>]"
      ]
     },
     "execution_count": 105,
     "metadata": {},
     "output_type": "execute_result"
    }
   ],
   "source": [
    "creatures"
   ]
  },
  {
   "cell_type": "code",
   "execution_count": 107,
   "metadata": {},
   "outputs": [
    {
     "data": {
      "text/plain": [
       "(x: 7, y: 4) Edge Count: 3"
      ]
     },
     "execution_count": 107,
     "metadata": {},
     "output_type": "execute_result"
    }
   ],
   "source": [
    "graph[(7, 3)]"
   ]
  },
  {
   "cell_type": "code",
   "execution_count": 106,
   "metadata": {},
   "outputs": [
    {
     "data": {
      "text/plain": [
       "3"
      ]
     },
     "execution_count": 106,
     "metadata": {},
     "output_type": "execute_result"
    }
   ],
   "source": [
    "round_number"
   ]
  },
  {
   "cell_type": "code",
   "execution_count": 97,
   "metadata": {},
   "outputs": [
    {
     "data": {
      "text/plain": [
       "{(x: 1, y: 1) Edge Count: 3,\n",
       " (x: 2, y: 1) Edge Count: 19 | G: AP=3 <200>,\n",
       " (x: 3, y: 1) Edge Count: 3,\n",
       " (x: 4, y: 1) Edge Count: 3 | G: AP=3 <200>,\n",
       " (x: 5, y: 1) Edge Count: 3,\n",
       " (x: 6, y: 1) Edge Count: 3,\n",
       " (x: 7, y: 1) Edge Count: 2 | G: AP=3 <200>,\n",
       " (x: 1, y: 2) Edge Count: 3,\n",
       " (x: 2, y: 2) Edge Count: 4,\n",
       " (x: 3, y: 2) Edge Count: 4,\n",
       " (x: 4, y: 2) Edge Count: 4,\n",
       " (x: 5, y: 2) Edge Count: 4,\n",
       " (x: 6, y: 2) Edge Count: 4,\n",
       " (x: 7, y: 2) Edge Count: 3,\n",
       " (x: 1, y: 3) Edge Count: 3,\n",
       " (x: 2, y: 3) Edge Count: 4,\n",
       " (x: 3, y: 3) Edge Count: 4,\n",
       " (x: 4, y: 3) Edge Count: 4,\n",
       " (x: 5, y: 3) Edge Count: 4,\n",
       " (x: 6, y: 3) Edge Count: 4,\n",
       " (x: 7, y: 3) Edge Count: 3,\n",
       " (x: 1, y: 4) Edge Count: 3 | G: AP=3 <200>,\n",
       " (x: 2, y: 4) Edge Count: 4,\n",
       " (x: 3, y: 4) Edge Count: 4,\n",
       " (x: 4, y: 4) Edge Count: 4 | E: AP=3 <200>,\n",
       " (x: 5, y: 4) Edge Count: 4,\n",
       " (x: 6, y: 4) Edge Count: 4,\n",
       " (x: 7, y: 4) Edge Count: 3 | G: AP=3 <200>,\n",
       " (x: 1, y: 5) Edge Count: 3,\n",
       " (x: 2, y: 5) Edge Count: 4,\n",
       " (x: 3, y: 5) Edge Count: 4,\n",
       " (x: 4, y: 5) Edge Count: 4,\n",
       " (x: 5, y: 5) Edge Count: 4,\n",
       " (x: 6, y: 5) Edge Count: 4,\n",
       " (x: 7, y: 5) Edge Count: 3,\n",
       " (x: 1, y: 6) Edge Count: 3,\n",
       " (x: 2, y: 6) Edge Count: 4,\n",
       " (x: 3, y: 6) Edge Count: 4,\n",
       " (x: 4, y: 6) Edge Count: 4,\n",
       " (x: 5, y: 6) Edge Count: 4,\n",
       " (x: 6, y: 6) Edge Count: 4,\n",
       " (x: 7, y: 6) Edge Count: 3,\n",
       " (x: 1, y: 7) Edge Count: 2 | G: AP=3 <200>,\n",
       " (x: 2, y: 7) Edge Count: 3,\n",
       " (x: 3, y: 7) Edge Count: 3,\n",
       " (x: 4, y: 7) Edge Count: 3 | G: AP=3 <200>,\n",
       " (x: 5, y: 7) Edge Count: 3,\n",
       " (x: 6, y: 7) Edge Count: 3,\n",
       " (x: 7, y: 7) Edge Count: 2 | G: AP=3 <200>}"
      ]
     },
     "execution_count": 97,
     "metadata": {},
     "output_type": "execute_result"
    }
   ],
   "source": [
    "graph"
   ]
  },
  {
   "cell_type": "code",
   "execution_count": 84,
   "metadata": {},
   "outputs": [
    {
     "name": "stdout",
     "output_type": "stream",
     "text": [
      "#########\n",
      "#G..G..G#\n",
      "#.......#\n",
      "#.......#\n",
      "#G..E..G#\n",
      "#.......#\n",
      "#.......#\n",
      "#G..G..G#\n",
      "#########\n"
     ]
    }
   ],
   "source": [
    "print(test)"
   ]
  },
  {
   "cell_type": "code",
   "execution_count": 85,
   "metadata": {},
   "outputs": [
    {
     "data": {
      "text/plain": [
       "[(x: 1, y: 1) Edge Count: 2 | G: AP=3 <200>,\n",
       " (x: 4, y: 1) Edge Count: 3 | G: AP=3 <200>,\n",
       " (x: 7, y: 1) Edge Count: 2 | G: AP=3 <200>,\n",
       " (x: 1, y: 4) Edge Count: 3 | G: AP=3 <200>,\n",
       " (x: 4, y: 4) Edge Count: 4 | E: AP=3 <200>,\n",
       " (x: 7, y: 4) Edge Count: 3 | G: AP=3 <200>,\n",
       " (x: 1, y: 7) Edge Count: 2 | G: AP=3 <200>,\n",
       " (x: 4, y: 7) Edge Count: 3 | G: AP=3 <200>,\n",
       " (x: 7, y: 7) Edge Count: 2 | G: AP=3 <200>]"
      ]
     },
     "execution_count": 85,
     "metadata": {},
     "output_type": "execute_result"
    }
   ],
   "source": [
    "creatures"
   ]
  },
  {
   "cell_type": "code",
   "execution_count": 86,
   "metadata": {},
   "outputs": [
    {
     "data": {
      "text/plain": [
       "{(x: 1, y: 1) Edge Count: 2 | G: AP=3 <200>,\n",
       " (x: 2, y: 1) Edge Count: 3,\n",
       " (x: 3, y: 1) Edge Count: 3,\n",
       " (x: 4, y: 1) Edge Count: 3 | G: AP=3 <200>,\n",
       " (x: 5, y: 1) Edge Count: 3,\n",
       " (x: 6, y: 1) Edge Count: 3,\n",
       " (x: 7, y: 1) Edge Count: 2 | G: AP=3 <200>,\n",
       " (x: 1, y: 2) Edge Count: 3,\n",
       " (x: 2, y: 2) Edge Count: 4,\n",
       " (x: 3, y: 2) Edge Count: 4,\n",
       " (x: 4, y: 2) Edge Count: 4,\n",
       " (x: 5, y: 2) Edge Count: 4,\n",
       " (x: 6, y: 2) Edge Count: 4,\n",
       " (x: 7, y: 2) Edge Count: 3,\n",
       " (x: 1, y: 3) Edge Count: 3,\n",
       " (x: 2, y: 3) Edge Count: 4,\n",
       " (x: 3, y: 3) Edge Count: 4,\n",
       " (x: 4, y: 3) Edge Count: 4,\n",
       " (x: 5, y: 3) Edge Count: 4,\n",
       " (x: 6, y: 3) Edge Count: 4,\n",
       " (x: 7, y: 3) Edge Count: 3,\n",
       " (x: 1, y: 4) Edge Count: 3 | G: AP=3 <200>,\n",
       " (x: 2, y: 4) Edge Count: 4,\n",
       " (x: 3, y: 4) Edge Count: 4,\n",
       " (x: 4, y: 4) Edge Count: 4 | E: AP=3 <200>,\n",
       " (x: 5, y: 4) Edge Count: 4,\n",
       " (x: 6, y: 4) Edge Count: 4,\n",
       " (x: 7, y: 4) Edge Count: 3 | G: AP=3 <200>,\n",
       " (x: 1, y: 5) Edge Count: 3,\n",
       " (x: 2, y: 5) Edge Count: 4,\n",
       " (x: 3, y: 5) Edge Count: 4,\n",
       " (x: 4, y: 5) Edge Count: 4,\n",
       " (x: 5, y: 5) Edge Count: 4,\n",
       " (x: 6, y: 5) Edge Count: 4,\n",
       " (x: 7, y: 5) Edge Count: 3,\n",
       " (x: 1, y: 6) Edge Count: 3,\n",
       " (x: 2, y: 6) Edge Count: 4,\n",
       " (x: 3, y: 6) Edge Count: 4,\n",
       " (x: 4, y: 6) Edge Count: 4,\n",
       " (x: 5, y: 6) Edge Count: 4,\n",
       " (x: 6, y: 6) Edge Count: 4,\n",
       " (x: 7, y: 6) Edge Count: 3,\n",
       " (x: 1, y: 7) Edge Count: 2 | G: AP=3 <200>,\n",
       " (x: 2, y: 7) Edge Count: 3,\n",
       " (x: 3, y: 7) Edge Count: 3,\n",
       " (x: 4, y: 7) Edge Count: 3 | G: AP=3 <200>,\n",
       " (x: 5, y: 7) Edge Count: 3,\n",
       " (x: 6, y: 7) Edge Count: 3,\n",
       " (x: 7, y: 7) Edge Count: 2 | G: AP=3 <200>}"
      ]
     },
     "execution_count": 86,
     "metadata": {},
     "output_type": "execute_result"
    }
   ],
   "source": [
    "graph"
   ]
  },
  {
   "cell_type": "code",
   "execution_count": null,
   "metadata": {},
   "outputs": [],
   "source": []
  }
 ],
 "metadata": {
  "kernelspec": {
   "display_name": "Python 3",
   "language": "python",
   "name": "python3"
  },
  "language_info": {
   "codemirror_mode": {
    "name": "ipython",
    "version": 3
   },
   "file_extension": ".py",
   "mimetype": "text/x-python",
   "name": "python",
   "nbconvert_exporter": "python",
   "pygments_lexer": "ipython3",
   "version": "3.6.7"
  }
 },
 "nbformat": 4,
 "nbformat_minor": 2
}
