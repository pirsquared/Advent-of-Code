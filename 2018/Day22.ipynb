{
 "cells": [
  {
   "cell_type": "code",
   "execution_count": 1,
   "metadata": {},
   "outputs": [],
   "source": [
    "import numpy as np\n",
    "from heapq import heappop, heappush\n",
    "from aocd import get_data\n",
    "\n",
    "import sys\n",
    "sys.setrecursionlimit(10000)\n",
    "data = get_data(year=2018, day=22)\n"
   ]
  },
  {
   "cell_type": "code",
   "execution_count": 2,
   "metadata": {},
   "outputs": [
    {
     "name": "stdout",
     "output_type": "stream",
     "text": [
      "depth: 6084\n",
      "target: 14,709\n"
     ]
    }
   ],
   "source": [
    "print(data)"
   ]
  },
  {
   "cell_type": "code",
   "execution_count": 29,
   "metadata": {},
   "outputs": [],
   "source": [
    "def enc(depth, target):\n",
    "    \n",
    "    geo_index_cache = {target: 0}\n",
    "    erosion_level_cache = {}\n",
    "    geo_types = ['Rocky', 'Wet', 'Narrow']\n",
    "    tools = {'Rocky': {'Torch', 'Climb'}, 'Wet': {'Climb', 'Neither'}, 'Narrow': {'Torch', 'Neither'}}\n",
    "\n",
    "    def adj(coord):\n",
    "        x, y = coord\n",
    "        c = [0, 0, -1, 1]\n",
    "        return {(x - dx, y - dy) for dx, dy in zip(c, c[::-1]) if x - dx >= 0 and y - dy >= 0}\n",
    "    \n",
    "    def get_geo_index(x, y):\n",
    "        coord = (x, y)\n",
    "        if coord not in geo_index_cache:\n",
    "            if x * y == 0:\n",
    "                geo_index_cache[coord] = x * 16807 + y * 48271\n",
    "            else:\n",
    "                geo_index_cache[coord] = get_erosion_level(x - 1, y) * get_erosion_level(x, y - 1)\n",
    "        return geo_index_cache[coord]\n",
    "    \n",
    "    def get_erosion_level(x, y):\n",
    "        coord = (x, y)\n",
    "        if coord not in erosion_level_cache:\n",
    "            erosion_level_cache[coord] = (get_geo_index(x, y) + depth) % 20183\n",
    "        return erosion_level_cache[coord]\n",
    "    \n",
    "    def get_geography(x, y):\n",
    "        return geo_types[get_erosion_level(x, y) % 3]\n",
    "    \n",
    "    def shrt(pos, target, d, seen=set()):\n",
    "        if pos == target:\n",
    "            return d\n",
    "        else:\n",
    "            q = []\n",
    "            tool = 'Torch'\n",
    "            for e in adj(pos) - seen:\n",
    "                geo_me = get_geography(*pos)\n",
    "                geo = get_geography(*e)\n",
    "                if geo_me == geo:\n",
    "                    heappush(q, (d + 1, e, tool))\n",
    "                else:\n",
    "                    tool_ = max(tools[geo_me] & tools[geo])\n",
    "                    wght = 1 if tool_ == tool else 7\n",
    "                    heappush(q, (d + wght, e, tool_))\n",
    "                    \n",
    "                while q:\n",
    "                    d_, e_, tool_ = heappop(q)\n",
    "                    if e_ == target:\n",
    "                        return d_\n",
    "                    else:\n",
    "                        tool_ = max(tools[geo_me] & tools[geo])\n",
    "                        wght = 1 if tool_ == tool else 7\n",
    "                        heappush(q, (d + wght, e, tool_))\n",
    "                return np.inf\n",
    "                    \n",
    "    \n",
    "    \n",
    "    def part1():\n",
    "        return sum(get_erosion_level(x, y) % 3 for x in range(target[0] + 1) for y in range(target[1] + 1))\n",
    "    \n",
    "    print(part1())\n",
    "    \n",
    "    return get_geo_index, get_erosion_level, get_geography, shrt, part1\n"
   ]
  },
  {
   "cell_type": "code",
   "execution_count": 26,
   "metadata": {},
   "outputs": [
    {
     "name": "stdout",
     "output_type": "stream",
     "text": [
      "10603\n"
     ]
    }
   ],
   "source": [
    "gidx, elvl, ggeo, shrt, part1 = enc(6084, (14, 709))"
   ]
  },
  {
   "cell_type": "code",
   "execution_count": 30,
   "metadata": {},
   "outputs": [
    {
     "name": "stdout",
     "output_type": "stream",
     "text": [
      "114\n"
     ]
    }
   ],
   "source": [
    "gidx, elvl, ggeo, shrt, part1 = enc(510, (10, 10))"
   ]
  },
  {
   "cell_type": "code",
   "execution_count": 31,
   "metadata": {},
   "outputs": [
    {
     "ename": "KeyboardInterrupt",
     "evalue": "",
     "output_type": "error",
     "traceback": [
      "\u001b[0;31m---------------------------------------------------------------------------\u001b[0m",
      "\u001b[0;31mKeyboardInterrupt\u001b[0m                         Traceback (most recent call last)",
      "\u001b[0;32m<ipython-input-31-41aeeb3ca67d>\u001b[0m in \u001b[0;36m<module>\u001b[0;34m()\u001b[0m\n\u001b[0;32m----> 1\u001b[0;31m \u001b[0mshrt\u001b[0m\u001b[0;34m(\u001b[0m\u001b[0;34m(\u001b[0m\u001b[0;36m0\u001b[0m\u001b[0;34m,\u001b[0m \u001b[0;36m0\u001b[0m\u001b[0;34m)\u001b[0m\u001b[0;34m,\u001b[0m \u001b[0;34m(\u001b[0m\u001b[0;36m10\u001b[0m\u001b[0;34m,\u001b[0m \u001b[0;36m10\u001b[0m\u001b[0;34m)\u001b[0m\u001b[0;34m,\u001b[0m \u001b[0;36m0\u001b[0m\u001b[0;34m)\u001b[0m\u001b[0;34m\u001b[0m\u001b[0;34m\u001b[0m\u001b[0m\n\u001b[0m",
      "\u001b[0;32m<ipython-input-29-a46eef631598>\u001b[0m in \u001b[0;36mshrt\u001b[0;34m(pos, target, d, seen)\u001b[0m\n\u001b[1;32m     52\u001b[0m                         \u001b[0mtool_\u001b[0m \u001b[0;34m=\u001b[0m \u001b[0mmax\u001b[0m\u001b[0;34m(\u001b[0m\u001b[0mtools\u001b[0m\u001b[0;34m[\u001b[0m\u001b[0mgeo_me\u001b[0m\u001b[0;34m]\u001b[0m \u001b[0;34m&\u001b[0m \u001b[0mtools\u001b[0m\u001b[0;34m[\u001b[0m\u001b[0mgeo\u001b[0m\u001b[0;34m]\u001b[0m\u001b[0;34m)\u001b[0m\u001b[0;34m\u001b[0m\u001b[0;34m\u001b[0m\u001b[0m\n\u001b[1;32m     53\u001b[0m                         \u001b[0mwght\u001b[0m \u001b[0;34m=\u001b[0m \u001b[0;36m1\u001b[0m \u001b[0;32mif\u001b[0m \u001b[0mtool_\u001b[0m \u001b[0;34m==\u001b[0m \u001b[0mtool\u001b[0m \u001b[0;32melse\u001b[0m \u001b[0;36m7\u001b[0m\u001b[0;34m\u001b[0m\u001b[0;34m\u001b[0m\u001b[0m\n\u001b[0;32m---> 54\u001b[0;31m                         \u001b[0mheappush\u001b[0m\u001b[0;34m(\u001b[0m\u001b[0mq\u001b[0m\u001b[0;34m,\u001b[0m \u001b[0;34m(\u001b[0m\u001b[0md\u001b[0m \u001b[0;34m+\u001b[0m \u001b[0mwght\u001b[0m\u001b[0;34m,\u001b[0m \u001b[0me\u001b[0m\u001b[0;34m,\u001b[0m \u001b[0mtool_\u001b[0m\u001b[0;34m)\u001b[0m\u001b[0;34m)\u001b[0m\u001b[0;34m\u001b[0m\u001b[0;34m\u001b[0m\u001b[0m\n\u001b[0m\u001b[1;32m     55\u001b[0m                 \u001b[0;32mreturn\u001b[0m \u001b[0mnp\u001b[0m\u001b[0;34m.\u001b[0m\u001b[0minf\u001b[0m\u001b[0;34m\u001b[0m\u001b[0;34m\u001b[0m\u001b[0m\n\u001b[1;32m     56\u001b[0m \u001b[0;34m\u001b[0m\u001b[0m\n",
      "\u001b[0;31mKeyboardInterrupt\u001b[0m: "
     ]
    }
   ],
   "source": [
    "shrt((0, 0), (10, 10), 0)"
   ]
  },
  {
   "cell_type": "code",
   "execution_count": null,
   "metadata": {},
   "outputs": [],
   "source": [
    "def shrt(pos, target, d, seen=set()):\n",
    "    if pos == target:\n",
    "        return d\n",
    "    else:\n",
    "        q = []\n",
    "        for e in adj(pos) - seen:\n",
    "            geo = ggeo\n",
    "            heappush(q, (d))\n",
    "    "
   ]
  }
 ],
 "metadata": {
  "kernelspec": {
   "display_name": "Python 3",
   "language": "python",
   "name": "python3"
  },
  "language_info": {
   "codemirror_mode": {
    "name": "ipython",
    "version": 3
   },
   "file_extension": ".py",
   "mimetype": "text/x-python",
   "name": "python",
   "nbconvert_exporter": "python",
   "pygments_lexer": "ipython3",
   "version": "3.6.7"
  }
 },
 "nbformat": 4,
 "nbformat_minor": 2
}
