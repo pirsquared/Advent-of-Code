{
 "cells": [
  {
   "cell_type": "code",
   "execution_count": 1,
   "metadata": {},
   "outputs": [],
   "source": [
    "import numpy as np\n",
    "import pandas as pd\n",
    "from parse import parse\n",
    "import re\n",
    "from aocd import get_data"
   ]
  },
  {
   "cell_type": "code",
   "execution_count": 2,
   "metadata": {},
   "outputs": [],
   "source": [
    "data = get_data(year=2018, day=13)"
   ]
  },
  {
   "cell_type": "code",
   "execution_count": 3,
   "metadata": {},
   "outputs": [],
   "source": [
    "test = r\"\"\"/->-\\        \n",
    "|   |  /----\\\n",
    "| /-+--+-\\  |\n",
    "| | |  | v  |\n",
    "\\-+-/  \\-+--/\n",
    "  \\------/   \"\"\""
   ]
  },
  {
   "cell_type": "code",
   "execution_count": 202,
   "metadata": {},
   "outputs": [],
   "source": [
    "def get_turn_map(n):\n",
    "\n",
    "    def plus(d, m):\n",
    "        return -(-1j) ** (1 + m)\n",
    "    \n",
    "    def straight(d, m):\n",
    "        return 1\n",
    "    \n",
    "    def fwd_slash(d, m):\n",
    "        return -1j * d ** 2\n",
    "    \n",
    "    def back_slash(d, m):\n",
    "        return -fwd_slash(d, m)\n",
    "\n",
    "    return {\n",
    "        '-': straight,\n",
    "        '|': straight,\n",
    "        '\\\\': back_slash,\n",
    "        '/': fwd_slash,\n",
    "        '+': plus\n",
    "    }"
   ]
  },
  {
   "cell_type": "code",
   "execution_count": 187,
   "metadata": {},
   "outputs": [],
   "source": [
    "def render(g, l, d):\n",
    "    g = g.copy()\n",
    "    l_ = lambda p: (int(p.real), int(p.imag))\n",
    "    d_ = {1j: '>', -1j: '<', 1: 'v', -1: '^'}.get\n",
    "    for _l, _d in zip(l, d):\n",
    "        i, j = l_(_l)\n",
    "        g[i, j] = d_(_d)\n",
    "    \n",
    "    return '\\n'.join([*map(''.join, g)])\n",
    "\n",
    "def collide(g, i, j):\n",
    "    a = np.array([[x for x in row] for row in g.splitlines()])\n",
    "    a[i, j] = 'X'\n",
    "    return '\\n'.join([*map(''.join, a)])"
   ]
  },
  {
   "cell_type": "code",
   "execution_count": 275,
   "metadata": {},
   "outputs": [],
   "source": [
    "def part1(data):\n",
    "\n",
    "    right = 0 + 1j\n",
    "    left = 0 - 1j\n",
    "    up = -1 + 0j\n",
    "    down = 1 + 0j\n",
    "    \n",
    "    a = np.array([[x for x in row] for row in data.splitlines()])\n",
    "    \n",
    "    condlist = [a == '>', a == '<', a == '^', a == 'v']\n",
    "    cart_grid = np.select(condlist, [right, left, up, down])\n",
    "    grid = np.select(condlist, [*'--||'], a)\n",
    "    i, j = np.where(cart_grid)\n",
    "\n",
    "    cart_loc = i + 1j * j\n",
    "    cart_dir = cart_grid[i, j]\n",
    "    num_cart = len(cart_loc)\n",
    "    \n",
    "    state = np.column_stack([\n",
    "        cart_loc, cart_dir, np.zeros(num_cart)\n",
    "    ])\n",
    "    \n",
    "    turn_map = get_turn_map(len(cart_loc))\n",
    "\n",
    "    collision = False\n",
    "    count = 0\n",
    "    while not collision:\n",
    "        arg = np.lexsort([state[:, 0].imag, state[:, 0].real])\n",
    "        state = state[arg]\n",
    "        for k in range(num_cart):\n",
    "            state[k, 0] += state[k, 1]\n",
    "            p, d = state[k, [0, 1]]\n",
    "            x = int(p.imag)\n",
    "            y = int(p.real)\n",
    "            m = int(state[k, 2].real)\n",
    "            g = grid[y, x]\n",
    "            state[k, 2] = (m + (g == '+')) % 3\n",
    "            state[k, 1] *= turn_map[g](d, m)\n",
    "\n",
    "            if (p == state[:, 0]).sum() > 1:\n",
    "                print(f\"{x},{y}\\nk={k}: x={x}: y={y}: dir={d}: count={count}\")\n",
    "#                 print(collide(render(grid, state[:, 0], state[:, 1]), y, x))\n",
    "                collision = True\n",
    "                break\n",
    "                \n",
    "        count += 1"
   ]
  },
  {
   "cell_type": "code",
   "execution_count": 276,
   "metadata": {},
   "outputs": [
    {
     "name": "stdout",
     "output_type": "stream",
     "text": [
      "7,3\n",
      "k=1: x=7: y=3: dir=(-1+0j): count=13\n"
     ]
    }
   ],
   "source": [
    "part1(test)"
   ]
  },
  {
   "cell_type": "code",
   "execution_count": 277,
   "metadata": {},
   "outputs": [
    {
     "name": "stdout",
     "output_type": "stream",
     "text": [
      "57,104\n",
      "k=8: x=57: y=104: dir=(1+0j): count=150\n"
     ]
    }
   ],
   "source": [
    "part1(data)"
   ]
  },
  {
   "cell_type": "code",
   "execution_count": 220,
   "metadata": {},
   "outputs": [],
   "source": [
    "test2 = r\"\"\"/>-<\\  \n",
    "|   |  \n",
    "| /<+-\\\n",
    "| | | v\n",
    "\\>+</ |\n",
    "  |   ^\n",
    "  \\<->/\"\"\""
   ]
  },
  {
   "cell_type": "code",
   "execution_count": 267,
   "metadata": {},
   "outputs": [],
   "source": [
    "def part2(data):\n",
    "\n",
    "    right = 0 + 1j\n",
    "    left = 0 - 1j\n",
    "    up = -1 + 0j\n",
    "    down = 1 + 0j\n",
    "    \n",
    "    a = np.array([[x for x in row] for row in data.splitlines()])\n",
    "    condlist = [a == '>', a == '<', a == '^', a == 'v']\n",
    "    cart_grid = np.select(condlist, [right, left, up, down])\n",
    "    grid = np.select(condlist, [*'--||'], a)\n",
    "    i, j = np.where(cart_grid)\n",
    "\n",
    "    cart_loc = i + 1j * j\n",
    "    cart_dir = cart_grid[i, j]\n",
    "    num_cart = len(cart_loc)\n",
    "    \n",
    "    state = np.column_stack([\n",
    "        cart_loc, cart_dir, np.zeros(num_cart)\n",
    "    ])\n",
    "    \n",
    "    turn_map = get_turn_map(len(cart_loc))\n",
    "\n",
    "    count = 0\n",
    "    while num_cart > 1:\n",
    "        arg = np.lexsort([state[:, 0].imag, state[:, 0].real])\n",
    "        state = state[arg]\n",
    "        mask = np.ones(num_cart, bool)\n",
    "        for k in range(num_cart):\n",
    "            if not mask[k]:\n",
    "                continue\n",
    "            state[k, 0] += state[k, 1]\n",
    "            p, d = state[k, [0, 1]]\n",
    "            x = int(p.imag)\n",
    "            y = int(p.real)\n",
    "            m = int(state[k, 2].real)\n",
    "            g = grid[y, x]\n",
    "            state[k, 2] = (m + (g == '+')) % 3\n",
    "            state[k, 1] *= turn_map[g](d, m)\n",
    "\n",
    "            this_mask = state[:, 0] == p\n",
    "            if this_mask.sum() > 1:\n",
    "                mask &= ~this_mask\n",
    "                            \n",
    "        state = state[mask]\n",
    "        num_cart = len(state)\n",
    "#         print(render(grid, state[:, 0], state[:, 1]), end='\\n\\n')\n",
    "                \n",
    "        count += 1\n",
    "    \n",
    "    print(f\"{state[0, 0].imag:.0f},{state[0, 0].real:.0f}\")\n",
    "#     print(render(grid, state[:, 0], state[:, 1]))\n",
    "    "
   ]
  },
  {
   "cell_type": "code",
   "execution_count": 268,
   "metadata": {},
   "outputs": [
    {
     "name": "stdout",
     "output_type": "stream",
     "text": [
      "6,4\n"
     ]
    }
   ],
   "source": [
    "part2(test2)"
   ]
  },
  {
   "cell_type": "code",
   "execution_count": 269,
   "metadata": {},
   "outputs": [
    {
     "name": "stdout",
     "output_type": "stream",
     "text": [
      "67,74\n"
     ]
    }
   ],
   "source": [
    "part2(data)"
   ]
  },
  {
   "cell_type": "code",
   "execution_count": null,
   "metadata": {},
   "outputs": [],
   "source": []
  }
 ],
 "metadata": {
  "kernelspec": {
   "display_name": "sean_dev1",
   "language": "python",
   "name": "dev1"
  },
  "language_info": {
   "codemirror_mode": {
    "name": "ipython",
    "version": 3
   },
   "file_extension": ".py",
   "mimetype": "text/x-python",
   "name": "python",
   "nbconvert_exporter": "python",
   "pygments_lexer": "ipython3",
   "version": "3.6.6"
  }
 },
 "nbformat": 4,
 "nbformat_minor": 2
}
