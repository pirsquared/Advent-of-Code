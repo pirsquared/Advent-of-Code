{
 "cells": [
  {
   "cell_type": "code",
   "execution_count": 1,
   "metadata": {},
   "outputs": [],
   "source": [
    "import numpy as np\n",
    "import pandas as pd\n",
    "from parse import parse\n",
    "import re\n",
    "from aocd import get_data\n",
    "from numba import njit\n",
    "import sys\n",
    "sys.setrecursionlimit(10000)\n",
    "data = get_data(year=2018, day=20)"
   ]
  },
  {
   "cell_type": "code",
   "execution_count": 2,
   "metadata": {},
   "outputs": [],
   "source": [
    "tests = [*{\n",
    "    '^WNE$': 3,\n",
    "    '^ENWWW(NEEE|SSE(EE|N))$': 10,\n",
    "    '^ENNWSWW(NEWS|)SSSEEN(WNSE|)EE(SWEN|)NNN$': 18,\n",
    "    '^ESSWWN(E|NNENN(EESS(WNSE|)SSS|WWWSSSSE(SW|NNNE)))$': 23,\n",
    "    '^WSSEESWWWNW(S|NENNEEEENN(ESSSSW(NWSW|SSEN)|WSWWN(E|WWS(E|SS))))$': 31,\n",
    "}.items()]"
   ]
  },
  {
   "cell_type": "code",
   "execution_count": 3,
   "metadata": {},
   "outputs": [],
   "source": [
    "class Room(object):\n",
    "    def __init__(self, N=None, S=None, E=None, W=None):\n",
    "        self.N = N\n",
    "        self.S = S\n",
    "        self.E = E\n",
    "        self.W = W\n",
    "        \n",
    "    def __hash__(self):\n",
    "        return id(self)\n",
    "    \n",
    "    @property\n",
    "    def edges(self):\n",
    "        return {*filter(None, (self.N, self.S, self.E, self.W))}\n",
    "        \n",
    "    def depth(self, d=0, seen=set()):\n",
    "        return max([e.depth(d + 1, seen | self.edges) for e in self.edges - seen], default=d)\n",
    "    \n",
    "    def part2(self, d=1, limit=0, seen=None):\n",
    "        seen = set() if seen is None else seen\n",
    "        edges = self.edges - seen\n",
    "        seen |= edges\n",
    "        count = len(edges) * (d >= limit)\n",
    "        return sum([e.part2(d + 1, limit, seen) for e in edges]) + count\n",
    "        "
   ]
  },
  {
   "cell_type": "code",
   "execution_count": 4,
   "metadata": {},
   "outputs": [],
   "source": [
    "ref = {'N': 'S', 'S': 'N', 'E': 'W', 'W': 'E'}"
   ]
  },
  {
   "cell_type": "code",
   "execution_count": 5,
   "metadata": {},
   "outputs": [],
   "source": [
    "def graph(base, path):\n",
    "    X = base\n",
    "    for c in path:\n",
    "        if c in ref:\n",
    "            if X.__getattribute__(c) is None:\n",
    "                X.__setattr__(c, Room(**{ref[c]: X}))\n",
    "            X = X.__getattribute__(c)\n",
    "        elif c == '|':\n",
    "            X = base\n",
    "        elif c == '(':\n",
    "            graph(X, path)\n",
    "        elif c == ')':\n",
    "            break"
   ]
  },
  {
   "cell_type": "code",
   "execution_count": 6,
   "metadata": {},
   "outputs": [],
   "source": [
    "def part1(data):\n",
    "    X = Room()\n",
    "    graph(X, iter(data))\n",
    "    return X.depth()"
   ]
  },
  {
   "cell_type": "code",
   "execution_count": 7,
   "metadata": {},
   "outputs": [
    {
     "name": "stdout",
     "output_type": "stream",
     "text": [
      "Pass    3: ^WNE$\n",
      "Pass   10: ^ENWWW(NEEE|SSE(EE|N))$\n",
      "Pass   18: ^ENNWSWW(NEWS|)SSSEEN(WNSE|)EE(SWEN|)NNN$\n",
      "Pass   23: ^ESSWWN(E|NNENN(EESS(WNSE|)SSS|WWWSSSSE(SW|NNNE)))$\n",
      "Pass   31: ^WSSEESWWWNW(S|NENNEEEENN(ESSSSW(NWSW|SSEN)|WSWWN(E|WWS(E|SS))))$\n"
     ]
    }
   ],
   "source": [
    "for d, v in tests:\n",
    "    result = part1(d)\n",
    "    passfail = ['Fail', 'Pass'][int(result == v)]\n",
    "    print(f\"{passfail} {v:4d}: {d}\")"
   ]
  },
  {
   "cell_type": "code",
   "execution_count": 8,
   "metadata": {},
   "outputs": [
    {
     "data": {
      "text/plain": [
       "4186"
      ]
     },
     "execution_count": 8,
     "metadata": {},
     "output_type": "execute_result"
    }
   ],
   "source": [
    "part1(data)"
   ]
  },
  {
   "cell_type": "code",
   "execution_count": 9,
   "metadata": {},
   "outputs": [],
   "source": [
    "def part2(data, limit=1000):\n",
    "    X = Room()\n",
    "    graph(X, iter(data))\n",
    "    return X.part2(limit=limit)"
   ]
  },
  {
   "cell_type": "code",
   "execution_count": 10,
   "metadata": {},
   "outputs": [
    {
     "data": {
      "text/plain": [
       "8466"
      ]
     },
     "execution_count": 10,
     "metadata": {},
     "output_type": "execute_result"
    }
   ],
   "source": [
    "part2(data)"
   ]
  },
  {
   "cell_type": "code",
   "execution_count": null,
   "metadata": {},
   "outputs": [],
   "source": []
  }
 ],
 "metadata": {
  "kernelspec": {
   "display_name": "Python 3",
   "language": "python",
   "name": "python3"
  },
  "language_info": {
   "codemirror_mode": {
    "name": "ipython",
    "version": 3
   },
   "file_extension": ".py",
   "mimetype": "text/x-python",
   "name": "python",
   "nbconvert_exporter": "python",
   "pygments_lexer": "ipython3",
   "version": "3.6.7"
  }
 },
 "nbformat": 4,
 "nbformat_minor": 2
}
